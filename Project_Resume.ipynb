{
 "cells": [
  {
   "cell_type": "markdown",
   "metadata": {},
   "source": [
    "# Technical Test for Data Analyst / Data Scientist / Data Engineer of The Bridge | Digital Talent Accelerator"
   ]
  },
  {
   "cell_type": "markdown",
   "metadata": {},
   "source": [
    "In this notebook we will solving step by step the The Bridge's Data Analyst / Data Science / Data Engineer technical test as the ultimate challenge of the bootcamp of Data Science & Analysis.\n",
    "\n",
    "Here we go!"
   ]
  },
  {
   "cell_type": "markdown",
   "metadata": {},
   "source": [
    "## Import Libraries"
   ]
  },
  {
   "cell_type": "code",
   "execution_count": 1,
   "metadata": {},
   "outputs": [],
   "source": [
    "import pandas as pd, numpy as np, plotly.express as px, pymysql, pickle, warnings\n",
    "from utils.models import GetInfo, DBController, Clean, CREATE_DATABASE, CREATE_TWEETS, INSERT_TWEETS, CREATE_USERS, INSERT_USERS, CREATE_VIEW\n",
    "from utils.config import HOST, USER, PASSWORD\n",
    "from collections import defaultdict\n",
    "\n",
    "warnings.filterwarnings(\"ignore\")"
   ]
  },
  {
   "cell_type": "markdown",
   "metadata": {},
   "source": [
    "## Attacking API Twitter"
   ]
  },
  {
   "cell_type": "markdown",
   "metadata": {},
   "source": [
    "To attack API Twitter we will use `Tweepy`\n",
    "\n",
    "`Tweepy` is a Python package to attack API Twitter what have a lot of methods to do it easy, in this case we want to know the tweets what The Bridge | Digital Talent Accelerator is quoted to take their metrics and analyze the sentiment of the tweet"
   ]
  },
  {
   "cell_type": "code",
   "execution_count": 2,
   "metadata": {},
   "outputs": [],
   "source": [
    "id = 1162694149956603904\n",
    "start_time = \"2022-01-01T00:00:00Z\"\n",
    "end_time = \"2022-05-22T23:59:59Z\""
   ]
  },
  {
   "cell_type": "code",
   "execution_count": 5,
   "metadata": {},
   "outputs": [
    {
     "data": {
      "text/html": [
       "<div>\n",
       "<style scoped>\n",
       "    .dataframe tbody tr th:only-of-type {\n",
       "        vertical-align: middle;\n",
       "    }\n",
       "\n",
       "    .dataframe tbody tr th {\n",
       "        vertical-align: top;\n",
       "    }\n",
       "\n",
       "    .dataframe thead th {\n",
       "        text-align: right;\n",
       "    }\n",
       "</style>\n",
       "<table border=\"1\" class=\"dataframe\">\n",
       "  <thead>\n",
       "    <tr style=\"text-align: right;\">\n",
       "      <th></th>\n",
       "      <th>Message_id</th>\n",
       "      <th>Message</th>\n",
       "      <th>Date</th>\n",
       "      <th>Author_id</th>\n",
       "      <th>Creator's_Username</th>\n",
       "      <th>Replys</th>\n",
       "      <th>Retweets</th>\n",
       "      <th>Likes</th>\n",
       "      <th>Quotes</th>\n",
       "    </tr>\n",
       "  </thead>\n",
       "  <tbody>\n",
       "    <tr>\n",
       "      <th>0</th>\n",
       "      <td>1526946552492789760</td>\n",
       "      <td>Esta es la historia de Isis🤗 que decidió hacer...</td>\n",
       "      <td>2022-05-18</td>\n",
       "      <td>1162694149956603904</td>\n",
       "      <td>TheBridge_Tech</td>\n",
       "      <td>0</td>\n",
       "      <td>0</td>\n",
       "      <td>0</td>\n",
       "      <td>0</td>\n",
       "    </tr>\n",
       "    <tr>\n",
       "      <th>1</th>\n",
       "      <td>1526886949839065088</td>\n",
       "      <td>Gracias @victorianoI y equipo por el análisis ...</td>\n",
       "      <td>2022-05-18</td>\n",
       "      <td>1162694149956603904</td>\n",
       "      <td>victorianoi</td>\n",
       "      <td>0</td>\n",
       "      <td>0</td>\n",
       "      <td>0</td>\n",
       "      <td>0</td>\n",
       "    </tr>\n",
       "    <tr>\n",
       "      <th>2</th>\n",
       "      <td>1526842834741039105</td>\n",
       "      <td>¿Cómo combatir el paro juvenil🥵? #tipdeldia En...</td>\n",
       "      <td>2022-05-18</td>\n",
       "      <td>1336771626306854912</td>\n",
       "      <td>TheBridge_Tech</td>\n",
       "      <td>1</td>\n",
       "      <td>4</td>\n",
       "      <td>8</td>\n",
       "      <td>0</td>\n",
       "    </tr>\n",
       "    <tr>\n",
       "      <th>3</th>\n",
       "      <td>1526479745185198080</td>\n",
       "      <td>Los perfiles tecnológicos más demandados en el...</td>\n",
       "      <td>2022-05-17</td>\n",
       "      <td>114739070</td>\n",
       "      <td>TheBridge_Tech</td>\n",
       "      <td>0</td>\n",
       "      <td>2</td>\n",
       "      <td>1</td>\n",
       "      <td>0</td>\n",
       "    </tr>\n",
       "    <tr>\n",
       "      <th>4</th>\n",
       "      <td>1526133158743359488</td>\n",
       "      <td>La 2da presentación-coloquio del #LibroIC en #...</td>\n",
       "      <td>2022-05-16</td>\n",
       "      <td>15993641</td>\n",
       "      <td>TheBridge_Tech</td>\n",
       "      <td>0</td>\n",
       "      <td>4</td>\n",
       "      <td>4</td>\n",
       "      <td>0</td>\n",
       "    </tr>\n",
       "  </tbody>\n",
       "</table>\n",
       "</div>"
      ],
      "text/plain": [
       "            Message_id                                            Message  \\\n",
       "0  1526946552492789760  Esta es la historia de Isis🤗 que decidió hacer...   \n",
       "1  1526886949839065088  Gracias @victorianoI y equipo por el análisis ...   \n",
       "2  1526842834741039105  ¿Cómo combatir el paro juvenil🥵? #tipdeldia En...   \n",
       "3  1526479745185198080  Los perfiles tecnológicos más demandados en el...   \n",
       "4  1526133158743359488  La 2da presentación-coloquio del #LibroIC en #...   \n",
       "\n",
       "         Date            Author_id Creator's_Username  Replys  Retweets  \\\n",
       "0  2022-05-18  1162694149956603904     TheBridge_Tech       0         0   \n",
       "1  2022-05-18  1162694149956603904        victorianoi       0         0   \n",
       "2  2022-05-18  1336771626306854912     TheBridge_Tech       1         4   \n",
       "3  2022-05-17            114739070     TheBridge_Tech       0         2   \n",
       "4  2022-05-16             15993641     TheBridge_Tech       0         4   \n",
       "\n",
       "   Likes  Quotes  \n",
       "0      0       0  \n",
       "1      0       0  \n",
       "2      8       0  \n",
       "3      1       0  \n",
       "4      4       0  "
      ]
     },
     "execution_count": 5,
     "metadata": {},
     "output_type": "execute_result"
    }
   ],
   "source": [
    "# tweets = GetInfo().get_client_tweets(id, start_time, end_time)\n",
    "# tweets.to_csv(\"data/tweets.csv\", index=False)\n",
    "tweets = pd.read_csv(\"data/tweets.csv\")\n",
    "tweets.head()"
   ]
  },
  {
   "cell_type": "code",
   "execution_count": 6,
   "metadata": {},
   "outputs": [
    {
     "data": {
      "text/html": [
       "<div>\n",
       "<style scoped>\n",
       "    .dataframe tbody tr th:only-of-type {\n",
       "        vertical-align: middle;\n",
       "    }\n",
       "\n",
       "    .dataframe tbody tr th {\n",
       "        vertical-align: top;\n",
       "    }\n",
       "\n",
       "    .dataframe thead th {\n",
       "        text-align: right;\n",
       "    }\n",
       "</style>\n",
       "<table border=\"1\" class=\"dataframe\">\n",
       "  <thead>\n",
       "    <tr style=\"text-align: right;\">\n",
       "      <th></th>\n",
       "      <th>Message_id</th>\n",
       "      <th>Message</th>\n",
       "      <th>Date</th>\n",
       "      <th>Author_id</th>\n",
       "      <th>Creator's_Username</th>\n",
       "      <th>Replys</th>\n",
       "      <th>Retweets</th>\n",
       "      <th>Likes</th>\n",
       "      <th>Quotes</th>\n",
       "    </tr>\n",
       "  </thead>\n",
       "  <tbody>\n",
       "    <tr>\n",
       "      <th>0</th>\n",
       "      <td>1526946552492789760</td>\n",
       "      <td>historia isis decidió hacer cambio vida profes...</td>\n",
       "      <td>2022-05-18</td>\n",
       "      <td>1162694149956603904</td>\n",
       "      <td>TheBridge_Tech</td>\n",
       "      <td>0</td>\n",
       "      <td>0</td>\n",
       "      <td>0</td>\n",
       "      <td>0</td>\n",
       "    </tr>\n",
       "    <tr>\n",
       "      <th>1</th>\n",
       "      <td>1526886949839065088</td>\n",
       "      <td>gracias victorianoi equipo análisis graphext d...</td>\n",
       "      <td>2022-05-18</td>\n",
       "      <td>1162694149956603904</td>\n",
       "      <td>victorianoi</td>\n",
       "      <td>0</td>\n",
       "      <td>0</td>\n",
       "      <td>0</td>\n",
       "      <td>0</td>\n",
       "    </tr>\n",
       "    <tr>\n",
       "      <th>2</th>\n",
       "      <td>1526842834741039105</td>\n",
       "      <td>cómo combatir paro juvenil tipdeldia país tasa...</td>\n",
       "      <td>2022-05-18</td>\n",
       "      <td>1336771626306854912</td>\n",
       "      <td>TheBridge_Tech</td>\n",
       "      <td>1</td>\n",
       "      <td>4</td>\n",
       "      <td>8</td>\n",
       "      <td>0</td>\n",
       "    </tr>\n",
       "    <tr>\n",
       "      <th>3</th>\n",
       "      <td>1526479745185198080</td>\n",
       "      <td>perfiles tecnológicos demandados futuro thebri...</td>\n",
       "      <td>2022-05-17</td>\n",
       "      <td>114739070</td>\n",
       "      <td>TheBridge_Tech</td>\n",
       "      <td>0</td>\n",
       "      <td>2</td>\n",
       "      <td>1</td>\n",
       "      <td>0</td>\n",
       "    </tr>\n",
       "    <tr>\n",
       "      <th>4</th>\n",
       "      <td>1526133158743359488</td>\n",
       "      <td>da presentación-coloquio libroic madrid jmayo ...</td>\n",
       "      <td>2022-05-16</td>\n",
       "      <td>15993641</td>\n",
       "      <td>TheBridge_Tech</td>\n",
       "      <td>0</td>\n",
       "      <td>4</td>\n",
       "      <td>4</td>\n",
       "      <td>0</td>\n",
       "    </tr>\n",
       "    <tr>\n",
       "      <th>...</th>\n",
       "      <td>...</td>\n",
       "      <td>...</td>\n",
       "      <td>...</td>\n",
       "      <td>...</td>\n",
       "      <td>...</td>\n",
       "      <td>...</td>\n",
       "      <td>...</td>\n",
       "      <td>...</td>\n",
       "      <td>...</td>\n",
       "    </tr>\n",
       "    <tr>\n",
       "      <th>93</th>\n",
       "      <td>1483469787078533123</td>\n",
       "      <td>periodismo marketing digital historia blanca g...</td>\n",
       "      <td>2022-01-18</td>\n",
       "      <td>1162694149956603904</td>\n",
       "      <td>TheBridge_Tech</td>\n",
       "      <td>0</td>\n",
       "      <td>0</td>\n",
       "      <td>0</td>\n",
       "      <td>0</td>\n",
       "    </tr>\n",
       "    <tr>\n",
       "      <th>94</th>\n",
       "      <td>1481340966866989063</td>\n",
       "      <td>ciclo conferencias inteligencia artificial res...</td>\n",
       "      <td>2022-01-12</td>\n",
       "      <td>41545659</td>\n",
       "      <td>rayadvd</td>\n",
       "      <td>0</td>\n",
       "      <td>1</td>\n",
       "      <td>6</td>\n",
       "      <td>0</td>\n",
       "    </tr>\n",
       "    <tr>\n",
       "      <th>95</th>\n",
       "      <td>1480228635294449667</td>\n",
       "      <td>encantaría saber enseñan estadística super cur...</td>\n",
       "      <td>2022-01-09</td>\n",
       "      <td>183583012</td>\n",
       "      <td>TheBridge_Tech</td>\n",
       "      <td>0</td>\n",
       "      <td>0</td>\n",
       "      <td>0</td>\n",
       "      <td>0</td>\n",
       "    </tr>\n",
       "    <tr>\n",
       "      <th>96</th>\n",
       "      <td>1479787660910768132</td>\n",
       "      <td>cbusquets hola thebridge_tech da opción pagar ...</td>\n",
       "      <td>2022-01-08</td>\n",
       "      <td>10045342</td>\n",
       "      <td>cbusquets</td>\n",
       "      <td>0</td>\n",
       "      <td>0</td>\n",
       "      <td>4</td>\n",
       "      <td>0</td>\n",
       "    </tr>\n",
       "    <tr>\n",
       "      <th>97</th>\n",
       "      <td>1478637395289378817</td>\n",
       "      <td>quieres formarte profesiones futuro actualidad...</td>\n",
       "      <td>2022-01-05</td>\n",
       "      <td>966573471663828992</td>\n",
       "      <td>camaradesevilla</td>\n",
       "      <td>0</td>\n",
       "      <td>0</td>\n",
       "      <td>3</td>\n",
       "      <td>0</td>\n",
       "    </tr>\n",
       "  </tbody>\n",
       "</table>\n",
       "<p>98 rows × 9 columns</p>\n",
       "</div>"
      ],
      "text/plain": [
       "             Message_id                                            Message  \\\n",
       "0   1526946552492789760  historia isis decidió hacer cambio vida profes...   \n",
       "1   1526886949839065088  gracias victorianoi equipo análisis graphext d...   \n",
       "2   1526842834741039105  cómo combatir paro juvenil tipdeldia país tasa...   \n",
       "3   1526479745185198080  perfiles tecnológicos demandados futuro thebri...   \n",
       "4   1526133158743359488  da presentación-coloquio libroic madrid jmayo ...   \n",
       "..                  ...                                                ...   \n",
       "93  1483469787078533123  periodismo marketing digital historia blanca g...   \n",
       "94  1481340966866989063  ciclo conferencias inteligencia artificial res...   \n",
       "95  1480228635294449667  encantaría saber enseñan estadística super cur...   \n",
       "96  1479787660910768132  cbusquets hola thebridge_tech da opción pagar ...   \n",
       "97  1478637395289378817  quieres formarte profesiones futuro actualidad...   \n",
       "\n",
       "          Date            Author_id Creator's_Username  Replys  Retweets  \\\n",
       "0   2022-05-18  1162694149956603904     TheBridge_Tech       0         0   \n",
       "1   2022-05-18  1162694149956603904        victorianoi       0         0   \n",
       "2   2022-05-18  1336771626306854912     TheBridge_Tech       1         4   \n",
       "3   2022-05-17            114739070     TheBridge_Tech       0         2   \n",
       "4   2022-05-16             15993641     TheBridge_Tech       0         4   \n",
       "..         ...                  ...                ...     ...       ...   \n",
       "93  2022-01-18  1162694149956603904     TheBridge_Tech       0         0   \n",
       "94  2022-01-12             41545659            rayadvd       0         1   \n",
       "95  2022-01-09            183583012     TheBridge_Tech       0         0   \n",
       "96  2022-01-08             10045342          cbusquets       0         0   \n",
       "97  2022-01-05   966573471663828992    camaradesevilla       0         0   \n",
       "\n",
       "    Likes  Quotes  \n",
       "0       0       0  \n",
       "1       0       0  \n",
       "2       8       0  \n",
       "3       1       0  \n",
       "4       4       0  \n",
       "..    ...     ...  \n",
       "93      0       0  \n",
       "94      6       0  \n",
       "95      0       0  \n",
       "96      4       0  \n",
       "97      3       0  \n",
       "\n",
       "[98 rows x 9 columns]"
      ]
     },
     "execution_count": 6,
     "metadata": {},
     "output_type": "execute_result"
    }
   ],
   "source": [
    "tweets[\"Message\"] = tweets[\"Message\"].apply(Clean().clean_emojis)\n",
    "tweets[\"Message\"] = tweets[\"Message\"].apply(Clean().remove_links)\n",
    "tweets[\"Message\"] = tweets[\"Message\"].apply(Clean().signs_tweets)\n",
    "tweets[\"Message\"] = tweets[\"Message\"].apply(Clean().remove_mentions_hashtags_retweets)\n",
    "tweets[\"Message\"] = tweets[\"Message\"].apply(Clean().remove_stopwords)\n",
    "tweets[\"Message\"] = tweets[\"Message\"].apply(Clean().remove_no_sense_by_len)\n",
    "tweets"
   ]
  },
  {
   "cell_type": "markdown",
   "metadata": {},
   "source": [
    "## Create Database in RDS"
   ]
  },
  {
   "cell_type": "markdown",
   "metadata": {},
   "source": [
    "RDS is a tool of AWS for deploy and managment of databases in cloud, we're going to create one previously deployed in the AWS console"
   ]
  },
  {
   "cell_type": "code",
   "execution_count": 39,
   "metadata": {},
   "outputs": [],
   "source": [
    "db = DBController(HOST, PASSWORD, USER)"
   ]
  },
  {
   "cell_type": "markdown",
   "metadata": {},
   "source": [
    "Here we instance and execute the `SQL` sentences to create the tables and create a view to show all the information of the database"
   ]
  },
  {
   "cell_type": "code",
   "execution_count": 41,
   "metadata": {},
   "outputs": [],
   "source": [
    "# db.changeSQL(db=\"-\", query=CREATE_DATABASE, create=True)\n",
    "# db.changeSQL(db=\"Prueba_Tecnica\", query=CREATE_TWEETS)\n",
    "# db.changeSQL(db=\"Prueba_Tecnica\", query=CREATE_USERS)\n",
    "# db.changeSQL(db=\"Prueba_Tecnica\", query=CREATE_VIEW)\n",
    "\n",
    "# # db.changeSQL(db=\"Prueba_Tecnica\", query=\"\"\"DROP DATABASE Prueba_Tecnica\"\"\")"
   ]
  },
  {
   "cell_type": "markdown",
   "metadata": {},
   "source": [
    "Here we insert the data to our database"
   ]
  },
  {
   "cell_type": "code",
   "execution_count": 9,
   "metadata": {},
   "outputs": [],
   "source": [
    "# for index, row in tweets.iterrows():\n",
    "\n",
    "#     db.changeSQL(db=\"Prueba_Tecnica\", query=INSERT_TWEETS.format(row[\"Author_id\"], row[\"Message_id\"], \n",
    "#     row[\"Message\"], row[\"Date\"], row[\"Replys\"], row[\"Retweets\"], row[\"Likes\"], row[\"Quotes\"]))\n",
    "    \n",
    "#     try:\n",
    "#         db.changeSQL(db=\"Prueba_Tecnica\", query=INSERT_USERS.format(row[\"Author_id\"], row[\"Creator's_Username\"]))\n",
    "#     except pymysql.IntegrityError:\n",
    "#         continue"
   ]
  },
  {
   "cell_type": "markdown",
   "metadata": {},
   "source": [
    "# Exploratory Data Analysis"
   ]
  },
  {
   "cell_type": "markdown",
   "metadata": {},
   "source": [
    "In this point we are going to discover:\n",
    "1. `What is the tweet with most impact`\n",
    "2. `Who is the user who quote the school the most`\n",
    "3. `What is the month with the most number of tweets`\n",
    "4. `What are the most repeated words`\n",
    "5. `What kind of mathematical correlation are between the public metrics`"
   ]
  },
  {
   "cell_type": "code",
   "execution_count": 10,
   "metadata": {},
   "outputs": [
    {
     "name": "stdout",
     "output_type": "stream",
     "text": [
      "<class 'pandas.core.frame.DataFrame'>\n",
      "RangeIndex: 98 entries, 0 to 97\n",
      "Data columns (total 9 columns):\n",
      " #   Column              Non-Null Count  Dtype \n",
      "---  ------              --------------  ----- \n",
      " 0   Message_id          98 non-null     int64 \n",
      " 1   Message             98 non-null     object\n",
      " 2   Date                98 non-null     object\n",
      " 3   Author_id           98 non-null     int64 \n",
      " 4   Creator's_Username  98 non-null     object\n",
      " 5   Replys              98 non-null     int64 \n",
      " 6   Retweets            98 non-null     int64 \n",
      " 7   Likes               98 non-null     int64 \n",
      " 8   Quotes              98 non-null     int64 \n",
      "dtypes: int64(6), object(3)\n",
      "memory usage: 7.0+ KB\n"
     ]
    }
   ],
   "source": [
    "tweets.info()"
   ]
  },
  {
   "cell_type": "markdown",
   "metadata": {},
   "source": [
    "Solving the point 1:"
   ]
  },
  {
   "cell_type": "markdown",
   "metadata": {},
   "source": [
    "Calculating the impact of the tweet"
   ]
  },
  {
   "cell_type": "code",
   "execution_count": 7,
   "metadata": {},
   "outputs": [],
   "source": [
    "tweets[\"Impact\"] = [reply + retweet + like + quote for reply, retweet, like, quote in\n",
    "                    zip(tweets[\"Replys\"], tweets[\"Retweets\"], tweets[\"Likes\"], tweets[\"Quotes\"])]"
   ]
  },
  {
   "cell_type": "code",
   "execution_count": 31,
   "metadata": {},
   "outputs": [
    {
     "data": {
      "application/vnd.plotly.v1+json": {
       "config": {
        "plotlyServerURL": "https://plotly.com"
       },
       "data": [
        {
         "alignmentgroup": "True",
         "bingroup": "x",
         "histfunc": "sum",
         "hovertemplate": "Message_id=1526946552492789760<br>Impact=%{x}<br>sum of Message_id=%{y}<extra></extra>",
         "legendgroup": "1526946552492789760",
         "marker": {
          "color": "#636efa",
          "pattern": {
           "shape": ""
          }
         },
         "name": "1526946552492789760",
         "nbinsx": 20,
         "offsetgroup": "1526946552492789760",
         "orientation": "v",
         "showlegend": true,
         "type": "histogram",
         "x": [
          0
         ],
         "xaxis": "x",
         "y": [
          1526946552492789800
         ],
         "yaxis": "y"
        },
        {
         "alignmentgroup": "True",
         "bingroup": "x",
         "histfunc": "sum",
         "hovertemplate": "Message_id=1526886949839065088<br>Impact=%{x}<br>sum of Message_id=%{y}<extra></extra>",
         "legendgroup": "1526886949839065088",
         "marker": {
          "color": "#EF553B",
          "pattern": {
           "shape": ""
          }
         },
         "name": "1526886949839065088",
         "nbinsx": 20,
         "offsetgroup": "1526886949839065088",
         "orientation": "v",
         "showlegend": true,
         "type": "histogram",
         "x": [
          0
         ],
         "xaxis": "x",
         "y": [
          1526886949839065000
         ],
         "yaxis": "y"
        },
        {
         "alignmentgroup": "True",
         "bingroup": "x",
         "histfunc": "sum",
         "hovertemplate": "Message_id=1526842834741039105<br>Impact=%{x}<br>sum of Message_id=%{y}<extra></extra>",
         "legendgroup": "1526842834741039105",
         "marker": {
          "color": "#00cc96",
          "pattern": {
           "shape": ""
          }
         },
         "name": "1526842834741039105",
         "nbinsx": 20,
         "offsetgroup": "1526842834741039105",
         "orientation": "v",
         "showlegend": true,
         "type": "histogram",
         "x": [
          13
         ],
         "xaxis": "x",
         "y": [
          1526842834741039000
         ],
         "yaxis": "y"
        },
        {
         "alignmentgroup": "True",
         "bingroup": "x",
         "histfunc": "sum",
         "hovertemplate": "Message_id=1526479745185198080<br>Impact=%{x}<br>sum of Message_id=%{y}<extra></extra>",
         "legendgroup": "1526479745185198080",
         "marker": {
          "color": "#ab63fa",
          "pattern": {
           "shape": ""
          }
         },
         "name": "1526479745185198080",
         "nbinsx": 20,
         "offsetgroup": "1526479745185198080",
         "orientation": "v",
         "showlegend": true,
         "type": "histogram",
         "x": [
          3
         ],
         "xaxis": "x",
         "y": [
          1526479745185198000
         ],
         "yaxis": "y"
        },
        {
         "alignmentgroup": "True",
         "bingroup": "x",
         "histfunc": "sum",
         "hovertemplate": "Message_id=1526133158743359488<br>Impact=%{x}<br>sum of Message_id=%{y}<extra></extra>",
         "legendgroup": "1526133158743359488",
         "marker": {
          "color": "#FFA15A",
          "pattern": {
           "shape": ""
          }
         },
         "name": "1526133158743359488",
         "nbinsx": 20,
         "offsetgroup": "1526133158743359488",
         "orientation": "v",
         "showlegend": true,
         "type": "histogram",
         "x": [
          8
         ],
         "xaxis": "x",
         "y": [
          1526133158743359500
         ],
         "yaxis": "y"
        },
        {
         "alignmentgroup": "True",
         "bingroup": "x",
         "histfunc": "sum",
         "hovertemplate": "Message_id=1525556372129169411<br>Impact=%{x}<br>sum of Message_id=%{y}<extra></extra>",
         "legendgroup": "1525556372129169411",
         "marker": {
          "color": "#19d3f3",
          "pattern": {
           "shape": ""
          }
         },
         "name": "1525556372129169411",
         "nbinsx": 20,
         "offsetgroup": "1525556372129169411",
         "orientation": "v",
         "showlegend": true,
         "type": "histogram",
         "x": [
          1
         ],
         "xaxis": "x",
         "y": [
          1525556372129169400
         ],
         "yaxis": "y"
        },
        {
         "alignmentgroup": "True",
         "bingroup": "x",
         "histfunc": "sum",
         "hovertemplate": "Message_id=1525051913317801984<br>Impact=%{x}<br>sum of Message_id=%{y}<extra></extra>",
         "legendgroup": "1525051913317801984",
         "marker": {
          "color": "#FF6692",
          "pattern": {
           "shape": ""
          }
         },
         "name": "1525051913317801984",
         "nbinsx": 20,
         "offsetgroup": "1525051913317801984",
         "orientation": "v",
         "showlegend": true,
         "type": "histogram",
         "x": [
          2
         ],
         "xaxis": "x",
         "y": [
          1525051913317802000
         ],
         "yaxis": "y"
        },
        {
         "alignmentgroup": "True",
         "bingroup": "x",
         "histfunc": "sum",
         "hovertemplate": "Message_id=1525047381234003968<br>Impact=%{x}<br>sum of Message_id=%{y}<extra></extra>",
         "legendgroup": "1525047381234003968",
         "marker": {
          "color": "#B6E880",
          "pattern": {
           "shape": ""
          }
         },
         "name": "1525047381234003968",
         "nbinsx": 20,
         "offsetgroup": "1525047381234003968",
         "orientation": "v",
         "showlegend": true,
         "type": "histogram",
         "x": [
          0
         ],
         "xaxis": "x",
         "y": [
          1525047381234004000
         ],
         "yaxis": "y"
        },
        {
         "alignmentgroup": "True",
         "bingroup": "x",
         "histfunc": "sum",
         "hovertemplate": "Message_id=1522114536286920704<br>Impact=%{x}<br>sum of Message_id=%{y}<extra></extra>",
         "legendgroup": "1522114536286920704",
         "marker": {
          "color": "#FF97FF",
          "pattern": {
           "shape": ""
          }
         },
         "name": "1522114536286920704",
         "nbinsx": 20,
         "offsetgroup": "1522114536286920704",
         "orientation": "v",
         "showlegend": true,
         "type": "histogram",
         "x": [
          6
         ],
         "xaxis": "x",
         "y": [
          1522114536286920700
         ],
         "yaxis": "y"
        },
        {
         "alignmentgroup": "True",
         "bingroup": "x",
         "histfunc": "sum",
         "hovertemplate": "Message_id=1519712433740386308<br>Impact=%{x}<br>sum of Message_id=%{y}<extra></extra>",
         "legendgroup": "1519712433740386308",
         "marker": {
          "color": "#FECB52",
          "pattern": {
           "shape": ""
          }
         },
         "name": "1519712433740386308",
         "nbinsx": 20,
         "offsetgroup": "1519712433740386308",
         "orientation": "v",
         "showlegend": true,
         "type": "histogram",
         "x": [
          1
         ],
         "xaxis": "x",
         "y": [
          1519712433740386300
         ],
         "yaxis": "y"
        },
        {
         "alignmentgroup": "True",
         "bingroup": "x",
         "histfunc": "sum",
         "hovertemplate": "Message_id=1519706866703638529<br>Impact=%{x}<br>sum of Message_id=%{y}<extra></extra>",
         "legendgroup": "1519706866703638529",
         "marker": {
          "color": "#636efa",
          "pattern": {
           "shape": ""
          }
         },
         "name": "1519706866703638529",
         "nbinsx": 20,
         "offsetgroup": "1519706866703638529",
         "orientation": "v",
         "showlegend": true,
         "type": "histogram",
         "x": [
          16
         ],
         "xaxis": "x",
         "y": [
          1519706866703638500
         ],
         "yaxis": "y"
        },
        {
         "alignmentgroup": "True",
         "bingroup": "x",
         "histfunc": "sum",
         "hovertemplate": "Message_id=1519432213061943303<br>Impact=%{x}<br>sum of Message_id=%{y}<extra></extra>",
         "legendgroup": "1519432213061943303",
         "marker": {
          "color": "#EF553B",
          "pattern": {
           "shape": ""
          }
         },
         "name": "1519432213061943303",
         "nbinsx": 20,
         "offsetgroup": "1519432213061943303",
         "orientation": "v",
         "showlegend": true,
         "type": "histogram",
         "x": [
          7
         ],
         "xaxis": "x",
         "y": [
          1519432213061943300
         ],
         "yaxis": "y"
        },
        {
         "alignmentgroup": "True",
         "bingroup": "x",
         "histfunc": "sum",
         "hovertemplate": "Message_id=1519359124219338752<br>Impact=%{x}<br>sum of Message_id=%{y}<extra></extra>",
         "legendgroup": "1519359124219338752",
         "marker": {
          "color": "#00cc96",
          "pattern": {
           "shape": ""
          }
         },
         "name": "1519359124219338752",
         "nbinsx": 20,
         "offsetgroup": "1519359124219338752",
         "orientation": "v",
         "showlegend": true,
         "type": "histogram",
         "x": [
          8
         ],
         "xaxis": "x",
         "y": [
          1519359124219338800
         ],
         "yaxis": "y"
        },
        {
         "alignmentgroup": "True",
         "bingroup": "x",
         "histfunc": "sum",
         "hovertemplate": "Message_id=1519338659111178242<br>Impact=%{x}<br>sum of Message_id=%{y}<extra></extra>",
         "legendgroup": "1519338659111178242",
         "marker": {
          "color": "#ab63fa",
          "pattern": {
           "shape": ""
          }
         },
         "name": "1519338659111178242",
         "nbinsx": 20,
         "offsetgroup": "1519338659111178242",
         "orientation": "v",
         "showlegend": true,
         "type": "histogram",
         "x": [
          1
         ],
         "xaxis": "x",
         "y": [
          1519338659111178200
         ],
         "yaxis": "y"
        },
        {
         "alignmentgroup": "True",
         "bingroup": "x",
         "histfunc": "sum",
         "hovertemplate": "Message_id=1519225678335459328<br>Impact=%{x}<br>sum of Message_id=%{y}<extra></extra>",
         "legendgroup": "1519225678335459328",
         "marker": {
          "color": "#FFA15A",
          "pattern": {
           "shape": ""
          }
         },
         "name": "1519225678335459328",
         "nbinsx": 20,
         "offsetgroup": "1519225678335459328",
         "orientation": "v",
         "showlegend": true,
         "type": "histogram",
         "x": [
          6
         ],
         "xaxis": "x",
         "y": [
          1519225678335459300
         ],
         "yaxis": "y"
        },
        {
         "alignmentgroup": "True",
         "bingroup": "x",
         "histfunc": "sum",
         "hovertemplate": "Message_id=1518967719516909568<br>Impact=%{x}<br>sum of Message_id=%{y}<extra></extra>",
         "legendgroup": "1518967719516909568",
         "marker": {
          "color": "#19d3f3",
          "pattern": {
           "shape": ""
          }
         },
         "name": "1518967719516909568",
         "nbinsx": 20,
         "offsetgroup": "1518967719516909568",
         "orientation": "v",
         "showlegend": true,
         "type": "histogram",
         "x": [
          13
         ],
         "xaxis": "x",
         "y": [
          1518967719516909600
         ],
         "yaxis": "y"
        },
        {
         "alignmentgroup": "True",
         "bingroup": "x",
         "histfunc": "sum",
         "hovertemplate": "Message_id=1518963397701906433<br>Impact=%{x}<br>sum of Message_id=%{y}<extra></extra>",
         "legendgroup": "1518963397701906433",
         "marker": {
          "color": "#FF6692",
          "pattern": {
           "shape": ""
          }
         },
         "name": "1518963397701906433",
         "nbinsx": 20,
         "offsetgroup": "1518963397701906433",
         "orientation": "v",
         "showlegend": true,
         "type": "histogram",
         "x": [
          0
         ],
         "xaxis": "x",
         "y": [
          1518963397701906400
         ],
         "yaxis": "y"
        },
        {
         "alignmentgroup": "True",
         "bingroup": "x",
         "histfunc": "sum",
         "hovertemplate": "Message_id=1518910838987501570<br>Impact=%{x}<br>sum of Message_id=%{y}<extra></extra>",
         "legendgroup": "1518910838987501570",
         "marker": {
          "color": "#B6E880",
          "pattern": {
           "shape": ""
          }
         },
         "name": "1518910838987501570",
         "nbinsx": 20,
         "offsetgroup": "1518910838987501570",
         "orientation": "v",
         "showlegend": true,
         "type": "histogram",
         "x": [
          4
         ],
         "xaxis": "x",
         "y": [
          1518910838987501600
         ],
         "yaxis": "y"
        },
        {
         "alignmentgroup": "True",
         "bingroup": "x",
         "histfunc": "sum",
         "hovertemplate": "Message_id=1518909298688077825<br>Impact=%{x}<br>sum of Message_id=%{y}<extra></extra>",
         "legendgroup": "1518909298688077825",
         "marker": {
          "color": "#FF97FF",
          "pattern": {
           "shape": ""
          }
         },
         "name": "1518909298688077825",
         "nbinsx": 20,
         "offsetgroup": "1518909298688077825",
         "orientation": "v",
         "showlegend": true,
         "type": "histogram",
         "x": [
          5
         ],
         "xaxis": "x",
         "y": [
          1518909298688077800
         ],
         "yaxis": "y"
        },
        {
         "alignmentgroup": "True",
         "bingroup": "x",
         "histfunc": "sum",
         "hovertemplate": "Message_id=1518607234976161792<br>Impact=%{x}<br>sum of Message_id=%{y}<extra></extra>",
         "legendgroup": "1518607234976161792",
         "marker": {
          "color": "#FECB52",
          "pattern": {
           "shape": ""
          }
         },
         "name": "1518607234976161792",
         "nbinsx": 20,
         "offsetgroup": "1518607234976161792",
         "orientation": "v",
         "showlegend": true,
         "type": "histogram",
         "x": [
          0
         ],
         "xaxis": "x",
         "y": [
          1518607234976161800
         ],
         "yaxis": "y"
        },
        {
         "alignmentgroup": "True",
         "bingroup": "x",
         "histfunc": "sum",
         "hovertemplate": "Message_id=1517423870483042304<br>Impact=%{x}<br>sum of Message_id=%{y}<extra></extra>",
         "legendgroup": "1517423870483042304",
         "marker": {
          "color": "#636efa",
          "pattern": {
           "shape": ""
          }
         },
         "name": "1517423870483042304",
         "nbinsx": 20,
         "offsetgroup": "1517423870483042304",
         "orientation": "v",
         "showlegend": true,
         "type": "histogram",
         "x": [
          2
         ],
         "xaxis": "x",
         "y": [
          1517423870483042300
         ],
         "yaxis": "y"
        },
        {
         "alignmentgroup": "True",
         "bingroup": "x",
         "histfunc": "sum",
         "hovertemplate": "Message_id=1517421295373271041<br>Impact=%{x}<br>sum of Message_id=%{y}<extra></extra>",
         "legendgroup": "1517421295373271041",
         "marker": {
          "color": "#EF553B",
          "pattern": {
           "shape": ""
          }
         },
         "name": "1517421295373271041",
         "nbinsx": 20,
         "offsetgroup": "1517421295373271041",
         "orientation": "v",
         "showlegend": true,
         "type": "histogram",
         "x": [
          6
         ],
         "xaxis": "x",
         "y": [
          1517421295373271000
         ],
         "yaxis": "y"
        },
        {
         "alignmentgroup": "True",
         "bingroup": "x",
         "histfunc": "sum",
         "hovertemplate": "Message_id=1517420242120683520<br>Impact=%{x}<br>sum of Message_id=%{y}<extra></extra>",
         "legendgroup": "1517420242120683520",
         "marker": {
          "color": "#00cc96",
          "pattern": {
           "shape": ""
          }
         },
         "name": "1517420242120683520",
         "nbinsx": 20,
         "offsetgroup": "1517420242120683520",
         "orientation": "v",
         "showlegend": true,
         "type": "histogram",
         "x": [
          2
         ],
         "xaxis": "x",
         "y": [
          1517420242120683500
         ],
         "yaxis": "y"
        },
        {
         "alignmentgroup": "True",
         "bingroup": "x",
         "histfunc": "sum",
         "hovertemplate": "Message_id=1517419666938998784<br>Impact=%{x}<br>sum of Message_id=%{y}<extra></extra>",
         "legendgroup": "1517419666938998784",
         "marker": {
          "color": "#ab63fa",
          "pattern": {
           "shape": ""
          }
         },
         "name": "1517419666938998784",
         "nbinsx": 20,
         "offsetgroup": "1517419666938998784",
         "orientation": "v",
         "showlegend": true,
         "type": "histogram",
         "x": [
          8
         ],
         "xaxis": "x",
         "y": [
          1517419666938998800
         ],
         "yaxis": "y"
        },
        {
         "alignmentgroup": "True",
         "bingroup": "x",
         "histfunc": "sum",
         "hovertemplate": "Message_id=1517418437777240065<br>Impact=%{x}<br>sum of Message_id=%{y}<extra></extra>",
         "legendgroup": "1517418437777240065",
         "marker": {
          "color": "#FFA15A",
          "pattern": {
           "shape": ""
          }
         },
         "name": "1517418437777240065",
         "nbinsx": 20,
         "offsetgroup": "1517418437777240065",
         "orientation": "v",
         "showlegend": true,
         "type": "histogram",
         "x": [
          5
         ],
         "xaxis": "x",
         "y": [
          1517418437777240000
         ],
         "yaxis": "y"
        },
        {
         "alignmentgroup": "True",
         "bingroup": "x",
         "histfunc": "sum",
         "hovertemplate": "Message_id=1517417898133884928<br>Impact=%{x}<br>sum of Message_id=%{y}<extra></extra>",
         "legendgroup": "1517417898133884928",
         "marker": {
          "color": "#19d3f3",
          "pattern": {
           "shape": ""
          }
         },
         "name": "1517417898133884928",
         "nbinsx": 20,
         "offsetgroup": "1517417898133884928",
         "orientation": "v",
         "showlegend": true,
         "type": "histogram",
         "x": [
          2
         ],
         "xaxis": "x",
         "y": [
          1517417898133885000
         ],
         "yaxis": "y"
        },
        {
         "alignmentgroup": "True",
         "bingroup": "x",
         "histfunc": "sum",
         "hovertemplate": "Message_id=1517409914792075264<br>Impact=%{x}<br>sum of Message_id=%{y}<extra></extra>",
         "legendgroup": "1517409914792075264",
         "marker": {
          "color": "#FF6692",
          "pattern": {
           "shape": ""
          }
         },
         "name": "1517409914792075264",
         "nbinsx": 20,
         "offsetgroup": "1517409914792075264",
         "orientation": "v",
         "showlegend": true,
         "type": "histogram",
         "x": [
          0
         ],
         "xaxis": "x",
         "y": [
          1517409914792075300
         ],
         "yaxis": "y"
        },
        {
         "alignmentgroup": "True",
         "bingroup": "x",
         "histfunc": "sum",
         "hovertemplate": "Message_id=1517396691443490816<br>Impact=%{x}<br>sum of Message_id=%{y}<extra></extra>",
         "legendgroup": "1517396691443490816",
         "marker": {
          "color": "#B6E880",
          "pattern": {
           "shape": ""
          }
         },
         "name": "1517396691443490816",
         "nbinsx": 20,
         "offsetgroup": "1517396691443490816",
         "orientation": "v",
         "showlegend": true,
         "type": "histogram",
         "x": [
          0
         ],
         "xaxis": "x",
         "y": [
          1517396691443490800
         ],
         "yaxis": "y"
        },
        {
         "alignmentgroup": "True",
         "bingroup": "x",
         "histfunc": "sum",
         "hovertemplate": "Message_id=1517147713254526978<br>Impact=%{x}<br>sum of Message_id=%{y}<extra></extra>",
         "legendgroup": "1517147713254526978",
         "marker": {
          "color": "#FF97FF",
          "pattern": {
           "shape": ""
          }
         },
         "name": "1517147713254526978",
         "nbinsx": 20,
         "offsetgroup": "1517147713254526978",
         "orientation": "v",
         "showlegend": true,
         "type": "histogram",
         "x": [
          1
         ],
         "xaxis": "x",
         "y": [
          1517147713254527000
         ],
         "yaxis": "y"
        },
        {
         "alignmentgroup": "True",
         "bingroup": "x",
         "histfunc": "sum",
         "hovertemplate": "Message_id=1517121644682256385<br>Impact=%{x}<br>sum of Message_id=%{y}<extra></extra>",
         "legendgroup": "1517121644682256385",
         "marker": {
          "color": "#FECB52",
          "pattern": {
           "shape": ""
          }
         },
         "name": "1517121644682256385",
         "nbinsx": 20,
         "offsetgroup": "1517121644682256385",
         "orientation": "v",
         "showlegend": true,
         "type": "histogram",
         "x": [
          0
         ],
         "xaxis": "x",
         "y": [
          1517121644682256400
         ],
         "yaxis": "y"
        },
        {
         "alignmentgroup": "True",
         "bingroup": "x",
         "histfunc": "sum",
         "hovertemplate": "Message_id=1517103356346617856<br>Impact=%{x}<br>sum of Message_id=%{y}<extra></extra>",
         "legendgroup": "1517103356346617856",
         "marker": {
          "color": "#636efa",
          "pattern": {
           "shape": ""
          }
         },
         "name": "1517103356346617856",
         "nbinsx": 20,
         "offsetgroup": "1517103356346617856",
         "orientation": "v",
         "showlegend": true,
         "type": "histogram",
         "x": [
          6
         ],
         "xaxis": "x",
         "y": [
          1517103356346617900
         ],
         "yaxis": "y"
        },
        {
         "alignmentgroup": "True",
         "bingroup": "x",
         "histfunc": "sum",
         "hovertemplate": "Message_id=1516740060346929153<br>Impact=%{x}<br>sum of Message_id=%{y}<extra></extra>",
         "legendgroup": "1516740060346929153",
         "marker": {
          "color": "#EF553B",
          "pattern": {
           "shape": ""
          }
         },
         "name": "1516740060346929153",
         "nbinsx": 20,
         "offsetgroup": "1516740060346929153",
         "orientation": "v",
         "showlegend": true,
         "type": "histogram",
         "x": [
          1
         ],
         "xaxis": "x",
         "y": [
          1516740060346929200
         ],
         "yaxis": "y"
        },
        {
         "alignmentgroup": "True",
         "bingroup": "x",
         "histfunc": "sum",
         "hovertemplate": "Message_id=1516642121729679362<br>Impact=%{x}<br>sum of Message_id=%{y}<extra></extra>",
         "legendgroup": "1516642121729679362",
         "marker": {
          "color": "#00cc96",
          "pattern": {
           "shape": ""
          }
         },
         "name": "1516642121729679362",
         "nbinsx": 20,
         "offsetgroup": "1516642121729679362",
         "orientation": "v",
         "showlegend": true,
         "type": "histogram",
         "x": [
          9
         ],
         "xaxis": "x",
         "y": [
          1516642121729679400
         ],
         "yaxis": "y"
        },
        {
         "alignmentgroup": "True",
         "bingroup": "x",
         "histfunc": "sum",
         "hovertemplate": "Message_id=1516505700595388430<br>Impact=%{x}<br>sum of Message_id=%{y}<extra></extra>",
         "legendgroup": "1516505700595388430",
         "marker": {
          "color": "#ab63fa",
          "pattern": {
           "shape": ""
          }
         },
         "name": "1516505700595388430",
         "nbinsx": 20,
         "offsetgroup": "1516505700595388430",
         "orientation": "v",
         "showlegend": true,
         "type": "histogram",
         "x": [
          1
         ],
         "xaxis": "x",
         "y": [
          1516505700595388400
         ],
         "yaxis": "y"
        },
        {
         "alignmentgroup": "True",
         "bingroup": "x",
         "histfunc": "sum",
         "hovertemplate": "Message_id=1516070347854028804<br>Impact=%{x}<br>sum of Message_id=%{y}<extra></extra>",
         "legendgroup": "1516070347854028804",
         "marker": {
          "color": "#FFA15A",
          "pattern": {
           "shape": ""
          }
         },
         "name": "1516070347854028804",
         "nbinsx": 20,
         "offsetgroup": "1516070347854028804",
         "orientation": "v",
         "showlegend": true,
         "type": "histogram",
         "x": [
          1
         ],
         "xaxis": "x",
         "y": [
          1516070347854028800
         ],
         "yaxis": "y"
        },
        {
         "alignmentgroup": "True",
         "bingroup": "x",
         "histfunc": "sum",
         "hovertemplate": "Message_id=1516067228344533003<br>Impact=%{x}<br>sum of Message_id=%{y}<extra></extra>",
         "legendgroup": "1516067228344533003",
         "marker": {
          "color": "#19d3f3",
          "pattern": {
           "shape": ""
          }
         },
         "name": "1516067228344533003",
         "nbinsx": 20,
         "offsetgroup": "1516067228344533003",
         "orientation": "v",
         "showlegend": true,
         "type": "histogram",
         "x": [
          2
         ],
         "xaxis": "x",
         "y": [
          1516067228344533000
         ],
         "yaxis": "y"
        },
        {
         "alignmentgroup": "True",
         "bingroup": "x",
         "histfunc": "sum",
         "hovertemplate": "Message_id=1516048336477995008<br>Impact=%{x}<br>sum of Message_id=%{y}<extra></extra>",
         "legendgroup": "1516048336477995008",
         "marker": {
          "color": "#FF6692",
          "pattern": {
           "shape": ""
          }
         },
         "name": "1516048336477995008",
         "nbinsx": 20,
         "offsetgroup": "1516048336477995008",
         "orientation": "v",
         "showlegend": true,
         "type": "histogram",
         "x": [
          0
         ],
         "xaxis": "x",
         "y": [
          1516048336477995000
         ],
         "yaxis": "y"
        },
        {
         "alignmentgroup": "True",
         "bingroup": "x",
         "histfunc": "sum",
         "hovertemplate": "Message_id=1516044530348347394<br>Impact=%{x}<br>sum of Message_id=%{y}<extra></extra>",
         "legendgroup": "1516044530348347394",
         "marker": {
          "color": "#B6E880",
          "pattern": {
           "shape": ""
          }
         },
         "name": "1516044530348347394",
         "nbinsx": 20,
         "offsetgroup": "1516044530348347394",
         "orientation": "v",
         "showlegend": true,
         "type": "histogram",
         "x": [
          2
         ],
         "xaxis": "x",
         "y": [
          1516044530348347400
         ],
         "yaxis": "y"
        },
        {
         "alignmentgroup": "True",
         "bingroup": "x",
         "histfunc": "sum",
         "hovertemplate": "Message_id=1515970019733258247<br>Impact=%{x}<br>sum of Message_id=%{y}<extra></extra>",
         "legendgroup": "1515970019733258247",
         "marker": {
          "color": "#FF97FF",
          "pattern": {
           "shape": ""
          }
         },
         "name": "1515970019733258247",
         "nbinsx": 20,
         "offsetgroup": "1515970019733258247",
         "orientation": "v",
         "showlegend": true,
         "type": "histogram",
         "x": [
          1
         ],
         "xaxis": "x",
         "y": [
          1515970019733258200
         ],
         "yaxis": "y"
        },
        {
         "alignmentgroup": "True",
         "bingroup": "x",
         "histfunc": "sum",
         "hovertemplate": "Message_id=1515945939508375556<br>Impact=%{x}<br>sum of Message_id=%{y}<extra></extra>",
         "legendgroup": "1515945939508375556",
         "marker": {
          "color": "#FECB52",
          "pattern": {
           "shape": ""
          }
         },
         "name": "1515945939508375556",
         "nbinsx": 20,
         "offsetgroup": "1515945939508375556",
         "orientation": "v",
         "showlegend": true,
         "type": "histogram",
         "x": [
          0
         ],
         "xaxis": "x",
         "y": [
          1515945939508375600
         ],
         "yaxis": "y"
        },
        {
         "alignmentgroup": "True",
         "bingroup": "x",
         "histfunc": "sum",
         "hovertemplate": "Message_id=1515944204127645701<br>Impact=%{x}<br>sum of Message_id=%{y}<extra></extra>",
         "legendgroup": "1515944204127645701",
         "marker": {
          "color": "#636efa",
          "pattern": {
           "shape": ""
          }
         },
         "name": "1515944204127645701",
         "nbinsx": 20,
         "offsetgroup": "1515944204127645701",
         "orientation": "v",
         "showlegend": true,
         "type": "histogram",
         "x": [
          2
         ],
         "xaxis": "x",
         "y": [
          1515944204127645700
         ],
         "yaxis": "y"
        },
        {
         "alignmentgroup": "True",
         "bingroup": "x",
         "histfunc": "sum",
         "hovertemplate": "Message_id=1515933948001632256<br>Impact=%{x}<br>sum of Message_id=%{y}<extra></extra>",
         "legendgroup": "1515933948001632256",
         "marker": {
          "color": "#EF553B",
          "pattern": {
           "shape": ""
          }
         },
         "name": "1515933948001632256",
         "nbinsx": 20,
         "offsetgroup": "1515933948001632256",
         "orientation": "v",
         "showlegend": true,
         "type": "histogram",
         "x": [
          13
         ],
         "xaxis": "x",
         "y": [
          1515933948001632300
         ],
         "yaxis": "y"
        },
        {
         "alignmentgroup": "True",
         "bingroup": "x",
         "histfunc": "sum",
         "hovertemplate": "Message_id=1514204427019767808<br>Impact=%{x}<br>sum of Message_id=%{y}<extra></extra>",
         "legendgroup": "1514204427019767808",
         "marker": {
          "color": "#00cc96",
          "pattern": {
           "shape": ""
          }
         },
         "name": "1514204427019767808",
         "nbinsx": 20,
         "offsetgroup": "1514204427019767808",
         "orientation": "v",
         "showlegend": true,
         "type": "histogram",
         "x": [
          4
         ],
         "xaxis": "x",
         "y": [
          1514204427019767800
         ],
         "yaxis": "y"
        },
        {
         "alignmentgroup": "True",
         "bingroup": "x",
         "histfunc": "sum",
         "hovertemplate": "Message_id=1513867656180477953<br>Impact=%{x}<br>sum of Message_id=%{y}<extra></extra>",
         "legendgroup": "1513867656180477953",
         "marker": {
          "color": "#ab63fa",
          "pattern": {
           "shape": ""
          }
         },
         "name": "1513867656180477953",
         "nbinsx": 20,
         "offsetgroup": "1513867656180477953",
         "orientation": "v",
         "showlegend": true,
         "type": "histogram",
         "x": [
          0
         ],
         "xaxis": "x",
         "y": [
          1513867656180478000
         ],
         "yaxis": "y"
        },
        {
         "alignmentgroup": "True",
         "bingroup": "x",
         "histfunc": "sum",
         "hovertemplate": "Message_id=1513848281801056258<br>Impact=%{x}<br>sum of Message_id=%{y}<extra></extra>",
         "legendgroup": "1513848281801056258",
         "marker": {
          "color": "#FFA15A",
          "pattern": {
           "shape": ""
          }
         },
         "name": "1513848281801056258",
         "nbinsx": 20,
         "offsetgroup": "1513848281801056258",
         "orientation": "v",
         "showlegend": true,
         "type": "histogram",
         "x": [
          18
         ],
         "xaxis": "x",
         "y": [
          1513848281801056300
         ],
         "yaxis": "y"
        },
        {
         "alignmentgroup": "True",
         "bingroup": "x",
         "histfunc": "sum",
         "hovertemplate": "Message_id=1512007299187027971<br>Impact=%{x}<br>sum of Message_id=%{y}<extra></extra>",
         "legendgroup": "1512007299187027971",
         "marker": {
          "color": "#19d3f3",
          "pattern": {
           "shape": ""
          }
         },
         "name": "1512007299187027971",
         "nbinsx": 20,
         "offsetgroup": "1512007299187027971",
         "orientation": "v",
         "showlegend": true,
         "type": "histogram",
         "x": [
          8
         ],
         "xaxis": "x",
         "y": [
          1512007299187028000
         ],
         "yaxis": "y"
        },
        {
         "alignmentgroup": "True",
         "bingroup": "x",
         "histfunc": "sum",
         "hovertemplate": "Message_id=1511633207061630980<br>Impact=%{x}<br>sum of Message_id=%{y}<extra></extra>",
         "legendgroup": "1511633207061630980",
         "marker": {
          "color": "#FF6692",
          "pattern": {
           "shape": ""
          }
         },
         "name": "1511633207061630980",
         "nbinsx": 20,
         "offsetgroup": "1511633207061630980",
         "orientation": "v",
         "showlegend": true,
         "type": "histogram",
         "x": [
          0
         ],
         "xaxis": "x",
         "y": [
          1511633207061631000
         ],
         "yaxis": "y"
        },
        {
         "alignmentgroup": "True",
         "bingroup": "x",
         "histfunc": "sum",
         "hovertemplate": "Message_id=1511329612260950019<br>Impact=%{x}<br>sum of Message_id=%{y}<extra></extra>",
         "legendgroup": "1511329612260950019",
         "marker": {
          "color": "#B6E880",
          "pattern": {
           "shape": ""
          }
         },
         "name": "1511329612260950019",
         "nbinsx": 20,
         "offsetgroup": "1511329612260950019",
         "orientation": "v",
         "showlegend": true,
         "type": "histogram",
         "x": [
          3
         ],
         "xaxis": "x",
         "y": [
          1511329612260950000
         ],
         "yaxis": "y"
        },
        {
         "alignmentgroup": "True",
         "bingroup": "x",
         "histfunc": "sum",
         "hovertemplate": "Message_id=1511328611755827200<br>Impact=%{x}<br>sum of Message_id=%{y}<extra></extra>",
         "legendgroup": "1511328611755827200",
         "marker": {
          "color": "#FF97FF",
          "pattern": {
           "shape": ""
          }
         },
         "name": "1511328611755827200",
         "nbinsx": 20,
         "offsetgroup": "1511328611755827200",
         "orientation": "v",
         "showlegend": true,
         "type": "histogram",
         "x": [
          1
         ],
         "xaxis": "x",
         "y": [
          1511328611755827200
         ],
         "yaxis": "y"
        },
        {
         "alignmentgroup": "True",
         "bingroup": "x",
         "histfunc": "sum",
         "hovertemplate": "Message_id=1511247995794251786<br>Impact=%{x}<br>sum of Message_id=%{y}<extra></extra>",
         "legendgroup": "1511247995794251786",
         "marker": {
          "color": "#FECB52",
          "pattern": {
           "shape": ""
          }
         },
         "name": "1511247995794251786",
         "nbinsx": 20,
         "offsetgroup": "1511247995794251786",
         "orientation": "v",
         "showlegend": true,
         "type": "histogram",
         "x": [
          5
         ],
         "xaxis": "x",
         "y": [
          1511247995794251800
         ],
         "yaxis": "y"
        },
        {
         "alignmentgroup": "True",
         "bingroup": "x",
         "histfunc": "sum",
         "hovertemplate": "Message_id=1509126320386715655<br>Impact=%{x}<br>sum of Message_id=%{y}<extra></extra>",
         "legendgroup": "1509126320386715655",
         "marker": {
          "color": "#636efa",
          "pattern": {
           "shape": ""
          }
         },
         "name": "1509126320386715655",
         "nbinsx": 20,
         "offsetgroup": "1509126320386715655",
         "orientation": "v",
         "showlegend": true,
         "type": "histogram",
         "x": [
          5
         ],
         "xaxis": "x",
         "y": [
          1509126320386715600
         ],
         "yaxis": "y"
        },
        {
         "alignmentgroup": "True",
         "bingroup": "x",
         "histfunc": "sum",
         "hovertemplate": "Message_id=1509101924699803650<br>Impact=%{x}<br>sum of Message_id=%{y}<extra></extra>",
         "legendgroup": "1509101924699803650",
         "marker": {
          "color": "#EF553B",
          "pattern": {
           "shape": ""
          }
         },
         "name": "1509101924699803650",
         "nbinsx": 20,
         "offsetgroup": "1509101924699803650",
         "orientation": "v",
         "showlegend": true,
         "type": "histogram",
         "x": [
          11
         ],
         "xaxis": "x",
         "y": [
          1509101924699803600
         ],
         "yaxis": "y"
        },
        {
         "alignmentgroup": "True",
         "bingroup": "x",
         "histfunc": "sum",
         "hovertemplate": "Message_id=1509100185493950470<br>Impact=%{x}<br>sum of Message_id=%{y}<extra></extra>",
         "legendgroup": "1509100185493950470",
         "marker": {
          "color": "#00cc96",
          "pattern": {
           "shape": ""
          }
         },
         "name": "1509100185493950470",
         "nbinsx": 20,
         "offsetgroup": "1509100185493950470",
         "orientation": "v",
         "showlegend": true,
         "type": "histogram",
         "x": [
          11
         ],
         "xaxis": "x",
         "y": [
          1509100185493950500
         ],
         "yaxis": "y"
        },
        {
         "alignmentgroup": "True",
         "bingroup": "x",
         "histfunc": "sum",
         "hovertemplate": "Message_id=1508843117000249345<br>Impact=%{x}<br>sum of Message_id=%{y}<extra></extra>",
         "legendgroup": "1508843117000249345",
         "marker": {
          "color": "#ab63fa",
          "pattern": {
           "shape": ""
          }
         },
         "name": "1508843117000249345",
         "nbinsx": 20,
         "offsetgroup": "1508843117000249345",
         "orientation": "v",
         "showlegend": true,
         "type": "histogram",
         "x": [
          5
         ],
         "xaxis": "x",
         "y": [
          1508843117000249300
         ],
         "yaxis": "y"
        },
        {
         "alignmentgroup": "True",
         "bingroup": "x",
         "histfunc": "sum",
         "hovertemplate": "Message_id=1507711509467734019<br>Impact=%{x}<br>sum of Message_id=%{y}<extra></extra>",
         "legendgroup": "1507711509467734019",
         "marker": {
          "color": "#FFA15A",
          "pattern": {
           "shape": ""
          }
         },
         "name": "1507711509467734019",
         "nbinsx": 20,
         "offsetgroup": "1507711509467734019",
         "orientation": "v",
         "showlegend": true,
         "type": "histogram",
         "x": [
          8
         ],
         "xaxis": "x",
         "y": [
          1507711509467734000
         ],
         "yaxis": "y"
        },
        {
         "alignmentgroup": "True",
         "bingroup": "x",
         "histfunc": "sum",
         "hovertemplate": "Message_id=1507059034146361344<br>Impact=%{x}<br>sum of Message_id=%{y}<extra></extra>",
         "legendgroup": "1507059034146361344",
         "marker": {
          "color": "#19d3f3",
          "pattern": {
           "shape": ""
          }
         },
         "name": "1507059034146361344",
         "nbinsx": 20,
         "offsetgroup": "1507059034146361344",
         "orientation": "v",
         "showlegend": true,
         "type": "histogram",
         "x": [
          11
         ],
         "xaxis": "x",
         "y": [
          1507059034146361300
         ],
         "yaxis": "y"
        },
        {
         "alignmentgroup": "True",
         "bingroup": "x",
         "histfunc": "sum",
         "hovertemplate": "Message_id=1504525515247472649<br>Impact=%{x}<br>sum of Message_id=%{y}<extra></extra>",
         "legendgroup": "1504525515247472649",
         "marker": {
          "color": "#FF6692",
          "pattern": {
           "shape": ""
          }
         },
         "name": "1504525515247472649",
         "nbinsx": 20,
         "offsetgroup": "1504525515247472649",
         "orientation": "v",
         "showlegend": true,
         "type": "histogram",
         "x": [
          0
         ],
         "xaxis": "x",
         "y": [
          1504525515247472600
         ],
         "yaxis": "y"
        },
        {
         "alignmentgroup": "True",
         "bingroup": "x",
         "histfunc": "sum",
         "hovertemplate": "Message_id=1504380116792664064<br>Impact=%{x}<br>sum of Message_id=%{y}<extra></extra>",
         "legendgroup": "1504380116792664064",
         "marker": {
          "color": "#B6E880",
          "pattern": {
           "shape": ""
          }
         },
         "name": "1504380116792664064",
         "nbinsx": 20,
         "offsetgroup": "1504380116792664064",
         "orientation": "v",
         "showlegend": true,
         "type": "histogram",
         "x": [
          6
         ],
         "xaxis": "x",
         "y": [
          1504380116792664000
         ],
         "yaxis": "y"
        },
        {
         "alignmentgroup": "True",
         "bingroup": "x",
         "histfunc": "sum",
         "hovertemplate": "Message_id=1503808574987935757<br>Impact=%{x}<br>sum of Message_id=%{y}<extra></extra>",
         "legendgroup": "1503808574987935757",
         "marker": {
          "color": "#FF97FF",
          "pattern": {
           "shape": ""
          }
         },
         "name": "1503808574987935757",
         "nbinsx": 20,
         "offsetgroup": "1503808574987935757",
         "orientation": "v",
         "showlegend": true,
         "type": "histogram",
         "x": [
          5
         ],
         "xaxis": "x",
         "y": [
          1503808574987935700
         ],
         "yaxis": "y"
        },
        {
         "alignmentgroup": "True",
         "bingroup": "x",
         "histfunc": "sum",
         "hovertemplate": "Message_id=1503513313648463877<br>Impact=%{x}<br>sum of Message_id=%{y}<extra></extra>",
         "legendgroup": "1503513313648463877",
         "marker": {
          "color": "#FECB52",
          "pattern": {
           "shape": ""
          }
         },
         "name": "1503513313648463877",
         "nbinsx": 20,
         "offsetgroup": "1503513313648463877",
         "orientation": "v",
         "showlegend": true,
         "type": "histogram",
         "x": [
          0
         ],
         "xaxis": "x",
         "y": [
          1503513313648464000
         ],
         "yaxis": "y"
        },
        {
         "alignmentgroup": "True",
         "bingroup": "x",
         "histfunc": "sum",
         "hovertemplate": "Message_id=1503409219789328384<br>Impact=%{x}<br>sum of Message_id=%{y}<extra></extra>",
         "legendgroup": "1503409219789328384",
         "marker": {
          "color": "#636efa",
          "pattern": {
           "shape": ""
          }
         },
         "name": "1503409219789328384",
         "nbinsx": 20,
         "offsetgroup": "1503409219789328384",
         "orientation": "v",
         "showlegend": true,
         "type": "histogram",
         "x": [
          4
         ],
         "xaxis": "x",
         "y": [
          1503409219789328400
         ],
         "yaxis": "y"
        },
        {
         "alignmentgroup": "True",
         "bingroup": "x",
         "histfunc": "sum",
         "hovertemplate": "Message_id=1501530641610989581<br>Impact=%{x}<br>sum of Message_id=%{y}<extra></extra>",
         "legendgroup": "1501530641610989581",
         "marker": {
          "color": "#EF553B",
          "pattern": {
           "shape": ""
          }
         },
         "name": "1501530641610989581",
         "nbinsx": 20,
         "offsetgroup": "1501530641610989581",
         "orientation": "v",
         "showlegend": true,
         "type": "histogram",
         "x": [
          5
         ],
         "xaxis": "x",
         "y": [
          1501530641610989600
         ],
         "yaxis": "y"
        },
        {
         "alignmentgroup": "True",
         "bingroup": "x",
         "histfunc": "sum",
         "hovertemplate": "Message_id=1500124541137428490<br>Impact=%{x}<br>sum of Message_id=%{y}<extra></extra>",
         "legendgroup": "1500124541137428490",
         "marker": {
          "color": "#00cc96",
          "pattern": {
           "shape": ""
          }
         },
         "name": "1500124541137428490",
         "nbinsx": 20,
         "offsetgroup": "1500124541137428490",
         "orientation": "v",
         "showlegend": true,
         "type": "histogram",
         "x": [
          13
         ],
         "xaxis": "x",
         "y": [
          1500124541137428500
         ],
         "yaxis": "y"
        },
        {
         "alignmentgroup": "True",
         "bingroup": "x",
         "histfunc": "sum",
         "hovertemplate": "Message_id=1499397980704546831<br>Impact=%{x}<br>sum of Message_id=%{y}<extra></extra>",
         "legendgroup": "1499397980704546831",
         "marker": {
          "color": "#ab63fa",
          "pattern": {
           "shape": ""
          }
         },
         "name": "1499397980704546831",
         "nbinsx": 20,
         "offsetgroup": "1499397980704546831",
         "orientation": "v",
         "showlegend": true,
         "type": "histogram",
         "x": [
          0
         ],
         "xaxis": "x",
         "y": [
          1499397980704546800
         ],
         "yaxis": "y"
        },
        {
         "alignmentgroup": "True",
         "bingroup": "x",
         "histfunc": "sum",
         "hovertemplate": "Message_id=1499397820410851332<br>Impact=%{x}<br>sum of Message_id=%{y}<extra></extra>",
         "legendgroup": "1499397820410851332",
         "marker": {
          "color": "#FFA15A",
          "pattern": {
           "shape": ""
          }
         },
         "name": "1499397820410851332",
         "nbinsx": 20,
         "offsetgroup": "1499397820410851332",
         "orientation": "v",
         "showlegend": true,
         "type": "histogram",
         "x": [
          0
         ],
         "xaxis": "x",
         "y": [
          1499397820410851300
         ],
         "yaxis": "y"
        },
        {
         "alignmentgroup": "True",
         "bingroup": "x",
         "histfunc": "sum",
         "hovertemplate": "Message_id=1499088433293185033<br>Impact=%{x}<br>sum of Message_id=%{y}<extra></extra>",
         "legendgroup": "1499088433293185033",
         "marker": {
          "color": "#19d3f3",
          "pattern": {
           "shape": ""
          }
         },
         "name": "1499088433293185033",
         "nbinsx": 20,
         "offsetgroup": "1499088433293185033",
         "orientation": "v",
         "showlegend": true,
         "type": "histogram",
         "x": [
          2
         ],
         "xaxis": "x",
         "y": [
          1499088433293185000
         ],
         "yaxis": "y"
        },
        {
         "alignmentgroup": "True",
         "bingroup": "x",
         "histfunc": "sum",
         "hovertemplate": "Message_id=1498249085337444355<br>Impact=%{x}<br>sum of Message_id=%{y}<extra></extra>",
         "legendgroup": "1498249085337444355",
         "marker": {
          "color": "#FF6692",
          "pattern": {
           "shape": ""
          }
         },
         "name": "1498249085337444355",
         "nbinsx": 20,
         "offsetgroup": "1498249085337444355",
         "orientation": "v",
         "showlegend": true,
         "type": "histogram",
         "x": [
          3
         ],
         "xaxis": "x",
         "y": [
          1498249085337444400
         ],
         "yaxis": "y"
        },
        {
         "alignmentgroup": "True",
         "bingroup": "x",
         "histfunc": "sum",
         "hovertemplate": "Message_id=1497198545333624832<br>Impact=%{x}<br>sum of Message_id=%{y}<extra></extra>",
         "legendgroup": "1497198545333624832",
         "marker": {
          "color": "#B6E880",
          "pattern": {
           "shape": ""
          }
         },
         "name": "1497198545333624832",
         "nbinsx": 20,
         "offsetgroup": "1497198545333624832",
         "orientation": "v",
         "showlegend": true,
         "type": "histogram",
         "x": [
          6
         ],
         "xaxis": "x",
         "y": [
          1497198545333624800
         ],
         "yaxis": "y"
        },
        {
         "alignmentgroup": "True",
         "bingroup": "x",
         "histfunc": "sum",
         "hovertemplate": "Message_id=1496865773582696449<br>Impact=%{x}<br>sum of Message_id=%{y}<extra></extra>",
         "legendgroup": "1496865773582696449",
         "marker": {
          "color": "#FF97FF",
          "pattern": {
           "shape": ""
          }
         },
         "name": "1496865773582696449",
         "nbinsx": 20,
         "offsetgroup": "1496865773582696449",
         "orientation": "v",
         "showlegend": true,
         "type": "histogram",
         "x": [
          1
         ],
         "xaxis": "x",
         "y": [
          1496865773582696400
         ],
         "yaxis": "y"
        },
        {
         "alignmentgroup": "True",
         "bingroup": "x",
         "histfunc": "sum",
         "hovertemplate": "Message_id=1496571973979234311<br>Impact=%{x}<br>sum of Message_id=%{y}<extra></extra>",
         "legendgroup": "1496571973979234311",
         "marker": {
          "color": "#FECB52",
          "pattern": {
           "shape": ""
          }
         },
         "name": "1496571973979234311",
         "nbinsx": 20,
         "offsetgroup": "1496571973979234311",
         "orientation": "v",
         "showlegend": true,
         "type": "histogram",
         "x": [
          7
         ],
         "xaxis": "x",
         "y": [
          1496571973979234300
         ],
         "yaxis": "y"
        },
        {
         "alignmentgroup": "True",
         "bingroup": "x",
         "histfunc": "sum",
         "hovertemplate": "Message_id=1496021941483802630<br>Impact=%{x}<br>sum of Message_id=%{y}<extra></extra>",
         "legendgroup": "1496021941483802630",
         "marker": {
          "color": "#636efa",
          "pattern": {
           "shape": ""
          }
         },
         "name": "1496021941483802630",
         "nbinsx": 20,
         "offsetgroup": "1496021941483802630",
         "orientation": "v",
         "showlegend": true,
         "type": "histogram",
         "x": [
          7
         ],
         "xaxis": "x",
         "y": [
          1496021941483802600
         ],
         "yaxis": "y"
        },
        {
         "alignmentgroup": "True",
         "bingroup": "x",
         "histfunc": "sum",
         "hovertemplate": "Message_id=1495055146769915908<br>Impact=%{x}<br>sum of Message_id=%{y}<extra></extra>",
         "legendgroup": "1495055146769915908",
         "marker": {
          "color": "#EF553B",
          "pattern": {
           "shape": ""
          }
         },
         "name": "1495055146769915908",
         "nbinsx": 20,
         "offsetgroup": "1495055146769915908",
         "orientation": "v",
         "showlegend": true,
         "type": "histogram",
         "x": [
          1
         ],
         "xaxis": "x",
         "y": [
          1495055146769916000
         ],
         "yaxis": "y"
        },
        {
         "alignmentgroup": "True",
         "bingroup": "x",
         "histfunc": "sum",
         "hovertemplate": "Message_id=1494627201794428930<br>Impact=%{x}<br>sum of Message_id=%{y}<extra></extra>",
         "legendgroup": "1494627201794428930",
         "marker": {
          "color": "#00cc96",
          "pattern": {
           "shape": ""
          }
         },
         "name": "1494627201794428930",
         "nbinsx": 20,
         "offsetgroup": "1494627201794428930",
         "orientation": "v",
         "showlegend": true,
         "type": "histogram",
         "x": [
          13
         ],
         "xaxis": "x",
         "y": [
          1494627201794429000
         ],
         "yaxis": "y"
        },
        {
         "alignmentgroup": "True",
         "bingroup": "x",
         "histfunc": "sum",
         "hovertemplate": "Message_id=1493902011242274825<br>Impact=%{x}<br>sum of Message_id=%{y}<extra></extra>",
         "legendgroup": "1493902011242274825",
         "marker": {
          "color": "#ab63fa",
          "pattern": {
           "shape": ""
          }
         },
         "name": "1493902011242274825",
         "nbinsx": 20,
         "offsetgroup": "1493902011242274825",
         "orientation": "v",
         "showlegend": true,
         "type": "histogram",
         "x": [
          23
         ],
         "xaxis": "x",
         "y": [
          1493902011242274800
         ],
         "yaxis": "y"
        },
        {
         "alignmentgroup": "True",
         "bingroup": "x",
         "histfunc": "sum",
         "hovertemplate": "Message_id=1493639257587601413<br>Impact=%{x}<br>sum of Message_id=%{y}<extra></extra>",
         "legendgroup": "1493639257587601413",
         "marker": {
          "color": "#FFA15A",
          "pattern": {
           "shape": ""
          }
         },
         "name": "1493639257587601413",
         "nbinsx": 20,
         "offsetgroup": "1493639257587601413",
         "orientation": "v",
         "showlegend": true,
         "type": "histogram",
         "x": [
          9
         ],
         "xaxis": "x",
         "y": [
          1493639257587601400
         ],
         "yaxis": "y"
        },
        {
         "alignmentgroup": "True",
         "bingroup": "x",
         "histfunc": "sum",
         "hovertemplate": "Message_id=1492946377290178564<br>Impact=%{x}<br>sum of Message_id=%{y}<extra></extra>",
         "legendgroup": "1492946377290178564",
         "marker": {
          "color": "#19d3f3",
          "pattern": {
           "shape": ""
          }
         },
         "name": "1492946377290178564",
         "nbinsx": 20,
         "offsetgroup": "1492946377290178564",
         "orientation": "v",
         "showlegend": true,
         "type": "histogram",
         "x": [
          2
         ],
         "xaxis": "x",
         "y": [
          1492946377290178600
         ],
         "yaxis": "y"
        },
        {
         "alignmentgroup": "True",
         "bingroup": "x",
         "histfunc": "sum",
         "hovertemplate": "Message_id=1492927405413089281<br>Impact=%{x}<br>sum of Message_id=%{y}<extra></extra>",
         "legendgroup": "1492927405413089281",
         "marker": {
          "color": "#FF6692",
          "pattern": {
           "shape": ""
          }
         },
         "name": "1492927405413089281",
         "nbinsx": 20,
         "offsetgroup": "1492927405413089281",
         "orientation": "v",
         "showlegend": true,
         "type": "histogram",
         "x": [
          12
         ],
         "xaxis": "x",
         "y": [
          1492927405413089300
         ],
         "yaxis": "y"
        },
        {
         "alignmentgroup": "True",
         "bingroup": "x",
         "histfunc": "sum",
         "hovertemplate": "Message_id=1492557029046632448<br>Impact=%{x}<br>sum of Message_id=%{y}<extra></extra>",
         "legendgroup": "1492557029046632448",
         "marker": {
          "color": "#B6E880",
          "pattern": {
           "shape": ""
          }
         },
         "name": "1492557029046632448",
         "nbinsx": 20,
         "offsetgroup": "1492557029046632448",
         "orientation": "v",
         "showlegend": true,
         "type": "histogram",
         "x": [
          5
         ],
         "xaxis": "x",
         "y": [
          1492557029046632400
         ],
         "yaxis": "y"
        },
        {
         "alignmentgroup": "True",
         "bingroup": "x",
         "histfunc": "sum",
         "hovertemplate": "Message_id=1490999359579643909<br>Impact=%{x}<br>sum of Message_id=%{y}<extra></extra>",
         "legendgroup": "1490999359579643909",
         "marker": {
          "color": "#FF97FF",
          "pattern": {
           "shape": ""
          }
         },
         "name": "1490999359579643909",
         "nbinsx": 20,
         "offsetgroup": "1490999359579643909",
         "orientation": "v",
         "showlegend": true,
         "type": "histogram",
         "x": [
          4
         ],
         "xaxis": "x",
         "y": [
          1490999359579644000
         ],
         "yaxis": "y"
        },
        {
         "alignmentgroup": "True",
         "bingroup": "x",
         "histfunc": "sum",
         "hovertemplate": "Message_id=1490973768667512835<br>Impact=%{x}<br>sum of Message_id=%{y}<extra></extra>",
         "legendgroup": "1490973768667512835",
         "marker": {
          "color": "#FECB52",
          "pattern": {
           "shape": ""
          }
         },
         "name": "1490973768667512835",
         "nbinsx": 20,
         "offsetgroup": "1490973768667512835",
         "orientation": "v",
         "showlegend": true,
         "type": "histogram",
         "x": [
          3
         ],
         "xaxis": "x",
         "y": [
          1490973768667512800
         ],
         "yaxis": "y"
        },
        {
         "alignmentgroup": "True",
         "bingroup": "x",
         "histfunc": "sum",
         "hovertemplate": "Message_id=1490430578633674756<br>Impact=%{x}<br>sum of Message_id=%{y}<extra></extra>",
         "legendgroup": "1490430578633674756",
         "marker": {
          "color": "#636efa",
          "pattern": {
           "shape": ""
          }
         },
         "name": "1490430578633674756",
         "nbinsx": 20,
         "offsetgroup": "1490430578633674756",
         "orientation": "v",
         "showlegend": true,
         "type": "histogram",
         "x": [
          1
         ],
         "xaxis": "x",
         "y": [
          1490430578633674800
         ],
         "yaxis": "y"
        },
        {
         "alignmentgroup": "True",
         "bingroup": "x",
         "histfunc": "sum",
         "hovertemplate": "Message_id=1489249806249644040<br>Impact=%{x}<br>sum of Message_id=%{y}<extra></extra>",
         "legendgroup": "1489249806249644040",
         "marker": {
          "color": "#EF553B",
          "pattern": {
           "shape": ""
          }
         },
         "name": "1489249806249644040",
         "nbinsx": 20,
         "offsetgroup": "1489249806249644040",
         "orientation": "v",
         "showlegend": true,
         "type": "histogram",
         "x": [
          1
         ],
         "xaxis": "x",
         "y": [
          1489249806249644000
         ],
         "yaxis": "y"
        },
        {
         "alignmentgroup": "True",
         "bingroup": "x",
         "histfunc": "sum",
         "hovertemplate": "Message_id=1488552725113618439<br>Impact=%{x}<br>sum of Message_id=%{y}<extra></extra>",
         "legendgroup": "1488552725113618439",
         "marker": {
          "color": "#00cc96",
          "pattern": {
           "shape": ""
          }
         },
         "name": "1488552725113618439",
         "nbinsx": 20,
         "offsetgroup": "1488552725113618439",
         "orientation": "v",
         "showlegend": true,
         "type": "histogram",
         "x": [
          4
         ],
         "xaxis": "x",
         "y": [
          1488552725113618400
         ],
         "yaxis": "y"
        },
        {
         "alignmentgroup": "True",
         "bingroup": "x",
         "histfunc": "sum",
         "hovertemplate": "Message_id=1488167222979801095<br>Impact=%{x}<br>sum of Message_id=%{y}<extra></extra>",
         "legendgroup": "1488167222979801095",
         "marker": {
          "color": "#ab63fa",
          "pattern": {
           "shape": ""
          }
         },
         "name": "1488167222979801095",
         "nbinsx": 20,
         "offsetgroup": "1488167222979801095",
         "orientation": "v",
         "showlegend": true,
         "type": "histogram",
         "x": [
          8
         ],
         "xaxis": "x",
         "y": [
          1488167222979801000
         ],
         "yaxis": "y"
        },
        {
         "alignmentgroup": "True",
         "bingroup": "x",
         "histfunc": "sum",
         "hovertemplate": "Message_id=1486618465909854214<br>Impact=%{x}<br>sum of Message_id=%{y}<extra></extra>",
         "legendgroup": "1486618465909854214",
         "marker": {
          "color": "#FFA15A",
          "pattern": {
           "shape": ""
          }
         },
         "name": "1486618465909854214",
         "nbinsx": 20,
         "offsetgroup": "1486618465909854214",
         "orientation": "v",
         "showlegend": true,
         "type": "histogram",
         "x": [
          0
         ],
         "xaxis": "x",
         "y": [
          1486618465909854200
         ],
         "yaxis": "y"
        },
        {
         "alignmentgroup": "True",
         "bingroup": "x",
         "histfunc": "sum",
         "hovertemplate": "Message_id=1486398530243735553<br>Impact=%{x}<br>sum of Message_id=%{y}<extra></extra>",
         "legendgroup": "1486398530243735553",
         "marker": {
          "color": "#19d3f3",
          "pattern": {
           "shape": ""
          }
         },
         "name": "1486398530243735553",
         "nbinsx": 20,
         "offsetgroup": "1486398530243735553",
         "orientation": "v",
         "showlegend": true,
         "type": "histogram",
         "x": [
          1
         ],
         "xaxis": "x",
         "y": [
          1486398530243735600
         ],
         "yaxis": "y"
        },
        {
         "alignmentgroup": "True",
         "bingroup": "x",
         "histfunc": "sum",
         "hovertemplate": "Message_id=1485946677194371074<br>Impact=%{x}<br>sum of Message_id=%{y}<extra></extra>",
         "legendgroup": "1485946677194371074",
         "marker": {
          "color": "#FF6692",
          "pattern": {
           "shape": ""
          }
         },
         "name": "1485946677194371074",
         "nbinsx": 20,
         "offsetgroup": "1485946677194371074",
         "orientation": "v",
         "showlegend": true,
         "type": "histogram",
         "x": [
          1
         ],
         "xaxis": "x",
         "y": [
          1485946677194371000
         ],
         "yaxis": "y"
        },
        {
         "alignmentgroup": "True",
         "bingroup": "x",
         "histfunc": "sum",
         "hovertemplate": "Message_id=1485598878917439491<br>Impact=%{x}<br>sum of Message_id=%{y}<extra></extra>",
         "legendgroup": "1485598878917439491",
         "marker": {
          "color": "#B6E880",
          "pattern": {
           "shape": ""
          }
         },
         "name": "1485598878917439491",
         "nbinsx": 20,
         "offsetgroup": "1485598878917439491",
         "orientation": "v",
         "showlegend": true,
         "type": "histogram",
         "x": [
          0
         ],
         "xaxis": "x",
         "y": [
          1485598878917439500
         ],
         "yaxis": "y"
        },
        {
         "alignmentgroup": "True",
         "bingroup": "x",
         "histfunc": "sum",
         "hovertemplate": "Message_id=1484480904030523394<br>Impact=%{x}<br>sum of Message_id=%{y}<extra></extra>",
         "legendgroup": "1484480904030523394",
         "marker": {
          "color": "#FF97FF",
          "pattern": {
           "shape": ""
          }
         },
         "name": "1484480904030523394",
         "nbinsx": 20,
         "offsetgroup": "1484480904030523394",
         "orientation": "v",
         "showlegend": true,
         "type": "histogram",
         "x": [
          8
         ],
         "xaxis": "x",
         "y": [
          1484480904030523400
         ],
         "yaxis": "y"
        },
        {
         "alignmentgroup": "True",
         "bingroup": "x",
         "histfunc": "sum",
         "hovertemplate": "Message_id=1484471502586138629<br>Impact=%{x}<br>sum of Message_id=%{y}<extra></extra>",
         "legendgroup": "1484471502586138629",
         "marker": {
          "color": "#FECB52",
          "pattern": {
           "shape": ""
          }
         },
         "name": "1484471502586138629",
         "nbinsx": 20,
         "offsetgroup": "1484471502586138629",
         "orientation": "v",
         "showlegend": true,
         "type": "histogram",
         "x": [
          5
         ],
         "xaxis": "x",
         "y": [
          1484471502586138600
         ],
         "yaxis": "y"
        },
        {
         "alignmentgroup": "True",
         "bingroup": "x",
         "histfunc": "sum",
         "hovertemplate": "Message_id=1484462596065574914<br>Impact=%{x}<br>sum of Message_id=%{y}<extra></extra>",
         "legendgroup": "1484462596065574914",
         "marker": {
          "color": "#636efa",
          "pattern": {
           "shape": ""
          }
         },
         "name": "1484462596065574914",
         "nbinsx": 20,
         "offsetgroup": "1484462596065574914",
         "orientation": "v",
         "showlegend": true,
         "type": "histogram",
         "x": [
          1
         ],
         "xaxis": "x",
         "y": [
          1484462596065575000
         ],
         "yaxis": "y"
        },
        {
         "alignmentgroup": "True",
         "bingroup": "x",
         "histfunc": "sum",
         "hovertemplate": "Message_id=1484117172494475265<br>Impact=%{x}<br>sum of Message_id=%{y}<extra></extra>",
         "legendgroup": "1484117172494475265",
         "marker": {
          "color": "#EF553B",
          "pattern": {
           "shape": ""
          }
         },
         "name": "1484117172494475265",
         "nbinsx": 20,
         "offsetgroup": "1484117172494475265",
         "orientation": "v",
         "showlegend": true,
         "type": "histogram",
         "x": [
          4
         ],
         "xaxis": "x",
         "y": [
          1484117172494475300
         ],
         "yaxis": "y"
        },
        {
         "alignmentgroup": "True",
         "bingroup": "x",
         "histfunc": "sum",
         "hovertemplate": "Message_id=1483836824279818241<br>Impact=%{x}<br>sum of Message_id=%{y}<extra></extra>",
         "legendgroup": "1483836824279818241",
         "marker": {
          "color": "#00cc96",
          "pattern": {
           "shape": ""
          }
         },
         "name": "1483836824279818241",
         "nbinsx": 20,
         "offsetgroup": "1483836824279818241",
         "orientation": "v",
         "showlegend": true,
         "type": "histogram",
         "x": [
          3
         ],
         "xaxis": "x",
         "y": [
          1483836824279818200
         ],
         "yaxis": "y"
        },
        {
         "alignmentgroup": "True",
         "bingroup": "x",
         "histfunc": "sum",
         "hovertemplate": "Message_id=1483469787078533123<br>Impact=%{x}<br>sum of Message_id=%{y}<extra></extra>",
         "legendgroup": "1483469787078533123",
         "marker": {
          "color": "#ab63fa",
          "pattern": {
           "shape": ""
          }
         },
         "name": "1483469787078533123",
         "nbinsx": 20,
         "offsetgroup": "1483469787078533123",
         "orientation": "v",
         "showlegend": true,
         "type": "histogram",
         "x": [
          0
         ],
         "xaxis": "x",
         "y": [
          1483469787078533000
         ],
         "yaxis": "y"
        },
        {
         "alignmentgroup": "True",
         "bingroup": "x",
         "histfunc": "sum",
         "hovertemplate": "Message_id=1481340966866989063<br>Impact=%{x}<br>sum of Message_id=%{y}<extra></extra>",
         "legendgroup": "1481340966866989063",
         "marker": {
          "color": "#FFA15A",
          "pattern": {
           "shape": ""
          }
         },
         "name": "1481340966866989063",
         "nbinsx": 20,
         "offsetgroup": "1481340966866989063",
         "orientation": "v",
         "showlegend": true,
         "type": "histogram",
         "x": [
          7
         ],
         "xaxis": "x",
         "y": [
          1481340966866989000
         ],
         "yaxis": "y"
        },
        {
         "alignmentgroup": "True",
         "bingroup": "x",
         "histfunc": "sum",
         "hovertemplate": "Message_id=1480228635294449667<br>Impact=%{x}<br>sum of Message_id=%{y}<extra></extra>",
         "legendgroup": "1480228635294449667",
         "marker": {
          "color": "#19d3f3",
          "pattern": {
           "shape": ""
          }
         },
         "name": "1480228635294449667",
         "nbinsx": 20,
         "offsetgroup": "1480228635294449667",
         "orientation": "v",
         "showlegend": true,
         "type": "histogram",
         "x": [
          0
         ],
         "xaxis": "x",
         "y": [
          1480228635294449700
         ],
         "yaxis": "y"
        },
        {
         "alignmentgroup": "True",
         "bingroup": "x",
         "histfunc": "sum",
         "hovertemplate": "Message_id=1479787660910768132<br>Impact=%{x}<br>sum of Message_id=%{y}<extra></extra>",
         "legendgroup": "1479787660910768132",
         "marker": {
          "color": "#FF6692",
          "pattern": {
           "shape": ""
          }
         },
         "name": "1479787660910768132",
         "nbinsx": 20,
         "offsetgroup": "1479787660910768132",
         "orientation": "v",
         "showlegend": true,
         "type": "histogram",
         "x": [
          4
         ],
         "xaxis": "x",
         "y": [
          1479787660910768000
         ],
         "yaxis": "y"
        },
        {
         "alignmentgroup": "True",
         "bingroup": "x",
         "histfunc": "sum",
         "hovertemplate": "Message_id=1478637395289378817<br>Impact=%{x}<br>sum of Message_id=%{y}<extra></extra>",
         "legendgroup": "1478637395289378817",
         "marker": {
          "color": "#B6E880",
          "pattern": {
           "shape": ""
          }
         },
         "name": "1478637395289378817",
         "nbinsx": 20,
         "offsetgroup": "1478637395289378817",
         "orientation": "v",
         "showlegend": true,
         "type": "histogram",
         "x": [
          3
         ],
         "xaxis": "x",
         "y": [
          1478637395289378800
         ],
         "yaxis": "y"
        }
       ],
       "layout": {
        "bargap": 0.2,
        "barmode": "relative",
        "legend": {
         "title": {
          "text": "Message_id"
         },
         "tracegroupgap": 0
        },
        "margin": {
         "t": 60
        },
        "template": {
         "data": {
          "bar": [
           {
            "error_x": {
             "color": "#2a3f5f"
            },
            "error_y": {
             "color": "#2a3f5f"
            },
            "marker": {
             "line": {
              "color": "#E5ECF6",
              "width": 0.5
             },
             "pattern": {
              "fillmode": "overlay",
              "size": 10,
              "solidity": 0.2
             }
            },
            "type": "bar"
           }
          ],
          "barpolar": [
           {
            "marker": {
             "line": {
              "color": "#E5ECF6",
              "width": 0.5
             },
             "pattern": {
              "fillmode": "overlay",
              "size": 10,
              "solidity": 0.2
             }
            },
            "type": "barpolar"
           }
          ],
          "carpet": [
           {
            "aaxis": {
             "endlinecolor": "#2a3f5f",
             "gridcolor": "white",
             "linecolor": "white",
             "minorgridcolor": "white",
             "startlinecolor": "#2a3f5f"
            },
            "baxis": {
             "endlinecolor": "#2a3f5f",
             "gridcolor": "white",
             "linecolor": "white",
             "minorgridcolor": "white",
             "startlinecolor": "#2a3f5f"
            },
            "type": "carpet"
           }
          ],
          "choropleth": [
           {
            "colorbar": {
             "outlinewidth": 0,
             "ticks": ""
            },
            "type": "choropleth"
           }
          ],
          "contour": [
           {
            "colorbar": {
             "outlinewidth": 0,
             "ticks": ""
            },
            "colorscale": [
             [
              0,
              "#0d0887"
             ],
             [
              0.1111111111111111,
              "#46039f"
             ],
             [
              0.2222222222222222,
              "#7201a8"
             ],
             [
              0.3333333333333333,
              "#9c179e"
             ],
             [
              0.4444444444444444,
              "#bd3786"
             ],
             [
              0.5555555555555556,
              "#d8576b"
             ],
             [
              0.6666666666666666,
              "#ed7953"
             ],
             [
              0.7777777777777778,
              "#fb9f3a"
             ],
             [
              0.8888888888888888,
              "#fdca26"
             ],
             [
              1,
              "#f0f921"
             ]
            ],
            "type": "contour"
           }
          ],
          "contourcarpet": [
           {
            "colorbar": {
             "outlinewidth": 0,
             "ticks": ""
            },
            "type": "contourcarpet"
           }
          ],
          "heatmap": [
           {
            "colorbar": {
             "outlinewidth": 0,
             "ticks": ""
            },
            "colorscale": [
             [
              0,
              "#0d0887"
             ],
             [
              0.1111111111111111,
              "#46039f"
             ],
             [
              0.2222222222222222,
              "#7201a8"
             ],
             [
              0.3333333333333333,
              "#9c179e"
             ],
             [
              0.4444444444444444,
              "#bd3786"
             ],
             [
              0.5555555555555556,
              "#d8576b"
             ],
             [
              0.6666666666666666,
              "#ed7953"
             ],
             [
              0.7777777777777778,
              "#fb9f3a"
             ],
             [
              0.8888888888888888,
              "#fdca26"
             ],
             [
              1,
              "#f0f921"
             ]
            ],
            "type": "heatmap"
           }
          ],
          "heatmapgl": [
           {
            "colorbar": {
             "outlinewidth": 0,
             "ticks": ""
            },
            "colorscale": [
             [
              0,
              "#0d0887"
             ],
             [
              0.1111111111111111,
              "#46039f"
             ],
             [
              0.2222222222222222,
              "#7201a8"
             ],
             [
              0.3333333333333333,
              "#9c179e"
             ],
             [
              0.4444444444444444,
              "#bd3786"
             ],
             [
              0.5555555555555556,
              "#d8576b"
             ],
             [
              0.6666666666666666,
              "#ed7953"
             ],
             [
              0.7777777777777778,
              "#fb9f3a"
             ],
             [
              0.8888888888888888,
              "#fdca26"
             ],
             [
              1,
              "#f0f921"
             ]
            ],
            "type": "heatmapgl"
           }
          ],
          "histogram": [
           {
            "marker": {
             "pattern": {
              "fillmode": "overlay",
              "size": 10,
              "solidity": 0.2
             }
            },
            "type": "histogram"
           }
          ],
          "histogram2d": [
           {
            "colorbar": {
             "outlinewidth": 0,
             "ticks": ""
            },
            "colorscale": [
             [
              0,
              "#0d0887"
             ],
             [
              0.1111111111111111,
              "#46039f"
             ],
             [
              0.2222222222222222,
              "#7201a8"
             ],
             [
              0.3333333333333333,
              "#9c179e"
             ],
             [
              0.4444444444444444,
              "#bd3786"
             ],
             [
              0.5555555555555556,
              "#d8576b"
             ],
             [
              0.6666666666666666,
              "#ed7953"
             ],
             [
              0.7777777777777778,
              "#fb9f3a"
             ],
             [
              0.8888888888888888,
              "#fdca26"
             ],
             [
              1,
              "#f0f921"
             ]
            ],
            "type": "histogram2d"
           }
          ],
          "histogram2dcontour": [
           {
            "colorbar": {
             "outlinewidth": 0,
             "ticks": ""
            },
            "colorscale": [
             [
              0,
              "#0d0887"
             ],
             [
              0.1111111111111111,
              "#46039f"
             ],
             [
              0.2222222222222222,
              "#7201a8"
             ],
             [
              0.3333333333333333,
              "#9c179e"
             ],
             [
              0.4444444444444444,
              "#bd3786"
             ],
             [
              0.5555555555555556,
              "#d8576b"
             ],
             [
              0.6666666666666666,
              "#ed7953"
             ],
             [
              0.7777777777777778,
              "#fb9f3a"
             ],
             [
              0.8888888888888888,
              "#fdca26"
             ],
             [
              1,
              "#f0f921"
             ]
            ],
            "type": "histogram2dcontour"
           }
          ],
          "mesh3d": [
           {
            "colorbar": {
             "outlinewidth": 0,
             "ticks": ""
            },
            "type": "mesh3d"
           }
          ],
          "parcoords": [
           {
            "line": {
             "colorbar": {
              "outlinewidth": 0,
              "ticks": ""
             }
            },
            "type": "parcoords"
           }
          ],
          "pie": [
           {
            "automargin": true,
            "type": "pie"
           }
          ],
          "scatter": [
           {
            "fillpattern": {
             "fillmode": "overlay",
             "size": 10,
             "solidity": 0.2
            },
            "type": "scatter"
           }
          ],
          "scatter3d": [
           {
            "line": {
             "colorbar": {
              "outlinewidth": 0,
              "ticks": ""
             }
            },
            "marker": {
             "colorbar": {
              "outlinewidth": 0,
              "ticks": ""
             }
            },
            "type": "scatter3d"
           }
          ],
          "scattercarpet": [
           {
            "marker": {
             "colorbar": {
              "outlinewidth": 0,
              "ticks": ""
             }
            },
            "type": "scattercarpet"
           }
          ],
          "scattergeo": [
           {
            "marker": {
             "colorbar": {
              "outlinewidth": 0,
              "ticks": ""
             }
            },
            "type": "scattergeo"
           }
          ],
          "scattergl": [
           {
            "marker": {
             "colorbar": {
              "outlinewidth": 0,
              "ticks": ""
             }
            },
            "type": "scattergl"
           }
          ],
          "scattermapbox": [
           {
            "marker": {
             "colorbar": {
              "outlinewidth": 0,
              "ticks": ""
             }
            },
            "type": "scattermapbox"
           }
          ],
          "scatterpolar": [
           {
            "marker": {
             "colorbar": {
              "outlinewidth": 0,
              "ticks": ""
             }
            },
            "type": "scatterpolar"
           }
          ],
          "scatterpolargl": [
           {
            "marker": {
             "colorbar": {
              "outlinewidth": 0,
              "ticks": ""
             }
            },
            "type": "scatterpolargl"
           }
          ],
          "scatterternary": [
           {
            "marker": {
             "colorbar": {
              "outlinewidth": 0,
              "ticks": ""
             }
            },
            "type": "scatterternary"
           }
          ],
          "surface": [
           {
            "colorbar": {
             "outlinewidth": 0,
             "ticks": ""
            },
            "colorscale": [
             [
              0,
              "#0d0887"
             ],
             [
              0.1111111111111111,
              "#46039f"
             ],
             [
              0.2222222222222222,
              "#7201a8"
             ],
             [
              0.3333333333333333,
              "#9c179e"
             ],
             [
              0.4444444444444444,
              "#bd3786"
             ],
             [
              0.5555555555555556,
              "#d8576b"
             ],
             [
              0.6666666666666666,
              "#ed7953"
             ],
             [
              0.7777777777777778,
              "#fb9f3a"
             ],
             [
              0.8888888888888888,
              "#fdca26"
             ],
             [
              1,
              "#f0f921"
             ]
            ],
            "type": "surface"
           }
          ],
          "table": [
           {
            "cells": {
             "fill": {
              "color": "#EBF0F8"
             },
             "line": {
              "color": "white"
             }
            },
            "header": {
             "fill": {
              "color": "#C8D4E3"
             },
             "line": {
              "color": "white"
             }
            },
            "type": "table"
           }
          ]
         },
         "layout": {
          "annotationdefaults": {
           "arrowcolor": "#2a3f5f",
           "arrowhead": 0,
           "arrowwidth": 1
          },
          "autotypenumbers": "strict",
          "coloraxis": {
           "colorbar": {
            "outlinewidth": 0,
            "ticks": ""
           }
          },
          "colorscale": {
           "diverging": [
            [
             0,
             "#8e0152"
            ],
            [
             0.1,
             "#c51b7d"
            ],
            [
             0.2,
             "#de77ae"
            ],
            [
             0.3,
             "#f1b6da"
            ],
            [
             0.4,
             "#fde0ef"
            ],
            [
             0.5,
             "#f7f7f7"
            ],
            [
             0.6,
             "#e6f5d0"
            ],
            [
             0.7,
             "#b8e186"
            ],
            [
             0.8,
             "#7fbc41"
            ],
            [
             0.9,
             "#4d9221"
            ],
            [
             1,
             "#276419"
            ]
           ],
           "sequential": [
            [
             0,
             "#0d0887"
            ],
            [
             0.1111111111111111,
             "#46039f"
            ],
            [
             0.2222222222222222,
             "#7201a8"
            ],
            [
             0.3333333333333333,
             "#9c179e"
            ],
            [
             0.4444444444444444,
             "#bd3786"
            ],
            [
             0.5555555555555556,
             "#d8576b"
            ],
            [
             0.6666666666666666,
             "#ed7953"
            ],
            [
             0.7777777777777778,
             "#fb9f3a"
            ],
            [
             0.8888888888888888,
             "#fdca26"
            ],
            [
             1,
             "#f0f921"
            ]
           ],
           "sequentialminus": [
            [
             0,
             "#0d0887"
            ],
            [
             0.1111111111111111,
             "#46039f"
            ],
            [
             0.2222222222222222,
             "#7201a8"
            ],
            [
             0.3333333333333333,
             "#9c179e"
            ],
            [
             0.4444444444444444,
             "#bd3786"
            ],
            [
             0.5555555555555556,
             "#d8576b"
            ],
            [
             0.6666666666666666,
             "#ed7953"
            ],
            [
             0.7777777777777778,
             "#fb9f3a"
            ],
            [
             0.8888888888888888,
             "#fdca26"
            ],
            [
             1,
             "#f0f921"
            ]
           ]
          },
          "colorway": [
           "#636efa",
           "#EF553B",
           "#00cc96",
           "#ab63fa",
           "#FFA15A",
           "#19d3f3",
           "#FF6692",
           "#B6E880",
           "#FF97FF",
           "#FECB52"
          ],
          "font": {
           "color": "#2a3f5f"
          },
          "geo": {
           "bgcolor": "white",
           "lakecolor": "white",
           "landcolor": "#E5ECF6",
           "showlakes": true,
           "showland": true,
           "subunitcolor": "white"
          },
          "hoverlabel": {
           "align": "left"
          },
          "hovermode": "closest",
          "mapbox": {
           "style": "light"
          },
          "paper_bgcolor": "white",
          "plot_bgcolor": "#E5ECF6",
          "polar": {
           "angularaxis": {
            "gridcolor": "white",
            "linecolor": "white",
            "ticks": ""
           },
           "bgcolor": "#E5ECF6",
           "radialaxis": {
            "gridcolor": "white",
            "linecolor": "white",
            "ticks": ""
           }
          },
          "scene": {
           "xaxis": {
            "backgroundcolor": "#E5ECF6",
            "gridcolor": "white",
            "gridwidth": 2,
            "linecolor": "white",
            "showbackground": true,
            "ticks": "",
            "zerolinecolor": "white"
           },
           "yaxis": {
            "backgroundcolor": "#E5ECF6",
            "gridcolor": "white",
            "gridwidth": 2,
            "linecolor": "white",
            "showbackground": true,
            "ticks": "",
            "zerolinecolor": "white"
           },
           "zaxis": {
            "backgroundcolor": "#E5ECF6",
            "gridcolor": "white",
            "gridwidth": 2,
            "linecolor": "white",
            "showbackground": true,
            "ticks": "",
            "zerolinecolor": "white"
           }
          },
          "shapedefaults": {
           "line": {
            "color": "#2a3f5f"
           }
          },
          "ternary": {
           "aaxis": {
            "gridcolor": "white",
            "linecolor": "white",
            "ticks": ""
           },
           "baxis": {
            "gridcolor": "white",
            "linecolor": "white",
            "ticks": ""
           },
           "bgcolor": "#E5ECF6",
           "caxis": {
            "gridcolor": "white",
            "linecolor": "white",
            "ticks": ""
           }
          },
          "title": {
           "x": 0.05
          },
          "xaxis": {
           "automargin": true,
           "gridcolor": "white",
           "linecolor": "white",
           "ticks": "",
           "title": {
            "standoff": 15
           },
           "zerolinecolor": "white",
           "zerolinewidth": 2
          },
          "yaxis": {
           "automargin": true,
           "gridcolor": "white",
           "linecolor": "white",
           "ticks": "",
           "title": {
            "standoff": 15
           },
           "zerolinecolor": "white",
           "zerolinewidth": 2
          }
         }
        },
        "title": {
         "text": "Impact of the tweets"
        },
        "xaxis": {
         "anchor": "y",
         "domain": [
          0,
          1
         ],
         "title": {
          "text": "Impact"
         }
        },
        "yaxis": {
         "anchor": "x",
         "categoryarray": [
          1478637395289378800,
          1479787660910768000,
          1480228635294449700,
          1481340966866989000,
          1483469787078533000,
          1483836824279818200,
          1484117172494475300,
          1484462596065575000,
          1484471502586138600,
          1484480904030523400,
          1485598878917439500,
          1485946677194371000,
          1486398530243735600,
          1486618465909854200,
          1488167222979801000,
          1488552725113618400,
          1489249806249644000,
          1490430578633674800,
          1490973768667512800,
          1490999359579644000,
          1492557029046632400,
          1492927405413089300,
          1492946377290178600,
          1493639257587601400,
          1493902011242274800,
          1494627201794429000,
          1495055146769916000,
          1496021941483802600,
          1496571973979234300,
          1496865773582696400,
          1497198545333624800,
          1498249085337444400,
          1499088433293185000,
          1499397820410851300,
          1499397980704546800,
          1500124541137428500,
          1501530641610989600,
          1503409219789328400,
          1503513313648464000,
          1503808574987935700,
          1504380116792664000,
          1504525515247472600,
          1507059034146361300,
          1507711509467734000,
          1508843117000249300,
          1509100185493950500,
          1509101924699803600,
          1509126320386715600,
          1511247995794251800,
          1511328611755827200,
          1511329612260950000,
          1511633207061631000,
          1512007299187028000,
          1513848281801056300,
          1513867656180478000,
          1514204427019767800,
          1515933948001632300,
          1515944204127645700,
          1515945939508375600,
          1515970019733258200,
          1516044530348347400,
          1516048336477995000,
          1516067228344533000,
          1516070347854028800,
          1516505700595388400,
          1516642121729679400,
          1516740060346929200,
          1517103356346617900,
          1517121644682256400,
          1517147713254527000,
          1517396691443490800,
          1517409914792075300,
          1517417898133885000,
          1517418437777240000,
          1517419666938998800,
          1517420242120683500,
          1517421295373271000,
          1517423870483042300,
          1518607234976161800,
          1518909298688077800,
          1518910838987501600,
          1518963397701906400,
          1518967719516909600,
          1519225678335459300,
          1519338659111178200,
          1519359124219338800,
          1519432213061943300,
          1519706866703638500,
          1519712433740386300,
          1522114536286920700,
          1525047381234004000,
          1525051913317802000,
          1525556372129169400,
          1526133158743359500,
          1526479745185198000,
          1526842834741039000,
          1526886949839065000,
          1526946552492789800
         ],
         "categoryorder": "array",
         "domain": [
          0,
          1
         ],
         "title": {
          "text": "sum of Message_id"
         }
        }
       }
      }
     },
     "metadata": {},
     "output_type": "display_data"
    }
   ],
   "source": [
    "fig = px.histogram(tweets, x=\"Impact\", y=\"Message_id\", nbins=20, color=\"Message_id\", hover_data=[\"Message_id\", \"Impact\"])\n",
    "fig.update_layout(bargap=0.2, title=\"Impact of the tweets\")\n",
    "fig.show()"
   ]
  },
  {
   "cell_type": "markdown",
   "metadata": {},
   "source": [
    "In the graph we look that the max impact of a tweet is 23, let's got to know what is it"
   ]
  },
  {
   "cell_type": "markdown",
   "metadata": {},
   "source": [
    "Looking up the tweet"
   ]
  },
  {
   "cell_type": "code",
   "execution_count": 8,
   "metadata": {},
   "outputs": [
    {
     "data": {
      "text/html": [
       "<div>\n",
       "<style scoped>\n",
       "    .dataframe tbody tr th:only-of-type {\n",
       "        vertical-align: middle;\n",
       "    }\n",
       "\n",
       "    .dataframe tbody tr th {\n",
       "        vertical-align: top;\n",
       "    }\n",
       "\n",
       "    .dataframe thead th {\n",
       "        text-align: right;\n",
       "    }\n",
       "</style>\n",
       "<table border=\"1\" class=\"dataframe\">\n",
       "  <thead>\n",
       "    <tr style=\"text-align: right;\">\n",
       "      <th></th>\n",
       "      <th>Message_id</th>\n",
       "      <th>Message</th>\n",
       "      <th>Date</th>\n",
       "      <th>Author_id</th>\n",
       "      <th>Creator's_Username</th>\n",
       "      <th>Replys</th>\n",
       "      <th>Retweets</th>\n",
       "      <th>Likes</th>\n",
       "      <th>Quotes</th>\n",
       "      <th>Impact</th>\n",
       "    </tr>\n",
       "  </thead>\n",
       "  <tbody>\n",
       "    <tr>\n",
       "      <th>73</th>\n",
       "      <td>1493902011242274825</td>\n",
       "      <td>agradecida gran trabajo equipo lanzar wc mento...</td>\n",
       "      <td>2022-02-16</td>\n",
       "      <td>2819387949</td>\n",
       "      <td>TheBridge_Tech</td>\n",
       "      <td>1</td>\n",
       "      <td>9</td>\n",
       "      <td>13</td>\n",
       "      <td>0</td>\n",
       "      <td>23</td>\n",
       "    </tr>\n",
       "  </tbody>\n",
       "</table>\n",
       "</div>"
      ],
      "text/plain": [
       "             Message_id                                            Message  \\\n",
       "73  1493902011242274825  agradecida gran trabajo equipo lanzar wc mento...   \n",
       "\n",
       "          Date   Author_id Creator's_Username  Replys  Retweets  Likes  \\\n",
       "73  2022-02-16  2819387949     TheBridge_Tech       1         9     13   \n",
       "\n",
       "    Quotes  Impact  \n",
       "73       0      23  "
      ]
     },
     "execution_count": 8,
     "metadata": {},
     "output_type": "execute_result"
    }
   ],
   "source": [
    "tweets.sort_values(by=\"Impact\", ascending=False).head(1)"
   ]
  },
  {
   "cell_type": "code",
   "execution_count": 11,
   "metadata": {},
   "outputs": [
    {
     "data": {
      "text/plain": [
       "array(['agradecida gran trabajo equipo lanzar wc mentoring cybersecurity thebridge_tech rdiazmoles marobserva dankominsky juliapereav anaayerbe evusroman maicaag sgarbecares peritecno maitenas womencyber iagorguezgarcia tima_soni unicc_ict {link}'],\n",
       "      dtype=object)"
      ]
     },
     "execution_count": 11,
     "metadata": {},
     "output_type": "execute_result"
    }
   ],
   "source": [
    "np.array(tweets[\"Message\"][tweets[\"Message_id\"] == 1493902011242274825])"
   ]
  },
  {
   "cell_type": "markdown",
   "metadata": {},
   "source": [
    "Solving point 2:"
   ]
  },
  {
   "cell_type": "code",
   "execution_count": 12,
   "metadata": {},
   "outputs": [
    {
     "data": {
      "text/html": [
       "<div>\n",
       "<style scoped>\n",
       "    .dataframe tbody tr th:only-of-type {\n",
       "        vertical-align: middle;\n",
       "    }\n",
       "\n",
       "    .dataframe tbody tr th {\n",
       "        vertical-align: top;\n",
       "    }\n",
       "\n",
       "    .dataframe thead th {\n",
       "        text-align: right;\n",
       "    }\n",
       "</style>\n",
       "<table border=\"1\" class=\"dataframe\">\n",
       "  <thead>\n",
       "    <tr style=\"text-align: right;\">\n",
       "      <th></th>\n",
       "      <th>Message_id</th>\n",
       "      <th>Message</th>\n",
       "      <th>Date</th>\n",
       "      <th>Author_id</th>\n",
       "      <th>Replys</th>\n",
       "      <th>Retweets</th>\n",
       "      <th>Likes</th>\n",
       "      <th>Quotes</th>\n",
       "      <th>Impact</th>\n",
       "    </tr>\n",
       "    <tr>\n",
       "      <th>Creator's_Username</th>\n",
       "      <th></th>\n",
       "      <th></th>\n",
       "      <th></th>\n",
       "      <th></th>\n",
       "      <th></th>\n",
       "      <th></th>\n",
       "      <th></th>\n",
       "      <th></th>\n",
       "      <th></th>\n",
       "    </tr>\n",
       "  </thead>\n",
       "  <tbody>\n",
       "    <tr>\n",
       "      <th>TheBridge_Tech</th>\n",
       "      <td>42</td>\n",
       "      <td>42</td>\n",
       "      <td>42</td>\n",
       "      <td>42</td>\n",
       "      <td>42</td>\n",
       "      <td>42</td>\n",
       "      <td>42</td>\n",
       "      <td>42</td>\n",
       "      <td>42</td>\n",
       "    </tr>\n",
       "    <tr>\n",
       "      <th>bertinha84</th>\n",
       "      <td>5</td>\n",
       "      <td>4</td>\n",
       "      <td>5</td>\n",
       "      <td>5</td>\n",
       "      <td>5</td>\n",
       "      <td>5</td>\n",
       "      <td>5</td>\n",
       "      <td>5</td>\n",
       "      <td>5</td>\n",
       "    </tr>\n",
       "    <tr>\n",
       "      <th>FUniversia</th>\n",
       "      <td>3</td>\n",
       "      <td>3</td>\n",
       "      <td>3</td>\n",
       "      <td>3</td>\n",
       "      <td>3</td>\n",
       "      <td>3</td>\n",
       "      <td>3</td>\n",
       "      <td>3</td>\n",
       "      <td>3</td>\n",
       "    </tr>\n",
       "  </tbody>\n",
       "</table>\n",
       "</div>"
      ],
      "text/plain": [
       "                    Message_id  Message  Date  Author_id  Replys  Retweets  \\\n",
       "Creator's_Username                                                           \n",
       "TheBridge_Tech              42       42    42         42      42        42   \n",
       "bertinha84                   5        4     5          5       5         5   \n",
       "FUniversia                   3        3     3          3       3         3   \n",
       "\n",
       "                    Likes  Quotes  Impact  \n",
       "Creator's_Username                         \n",
       "TheBridge_Tech         42      42      42  \n",
       "bertinha84              5       5       5  \n",
       "FUniversia              3       3       3  "
      ]
     },
     "execution_count": 12,
     "metadata": {},
     "output_type": "execute_result"
    }
   ],
   "source": [
    "tweets.groupby(\"Creator's_Username\").count().sort_values(by=\"Message\", ascending=False).head(3)"
   ]
  },
  {
   "cell_type": "code",
   "execution_count": 17,
   "metadata": {},
   "outputs": [
    {
     "data": {
      "application/vnd.plotly.v1+json": {
       "config": {
        "plotlyServerURL": "https://plotly.com"
       },
       "data": [
        {
         "alignmentgroup": "True",
         "bingroup": "x",
         "hovertemplate": "Creator's_Username=%{x}<br>count=%{y}<extra></extra>",
         "legendgroup": "TheBridge_Tech",
         "marker": {
          "color": "#636efa",
          "pattern": {
           "shape": ""
          }
         },
         "name": "TheBridge_Tech",
         "nbinsx": 10,
         "offsetgroup": "TheBridge_Tech",
         "orientation": "v",
         "showlegend": true,
         "type": "histogram",
         "x": [
          "TheBridge_Tech",
          "TheBridge_Tech",
          "TheBridge_Tech",
          "TheBridge_Tech",
          "TheBridge_Tech",
          "TheBridge_Tech",
          "TheBridge_Tech",
          "TheBridge_Tech",
          "TheBridge_Tech",
          "TheBridge_Tech",
          "TheBridge_Tech",
          "TheBridge_Tech",
          "TheBridge_Tech",
          "TheBridge_Tech",
          "TheBridge_Tech",
          "TheBridge_Tech",
          "TheBridge_Tech",
          "TheBridge_Tech",
          "TheBridge_Tech",
          "TheBridge_Tech",
          "TheBridge_Tech",
          "TheBridge_Tech",
          "TheBridge_Tech",
          "TheBridge_Tech",
          "TheBridge_Tech",
          "TheBridge_Tech",
          "TheBridge_Tech",
          "TheBridge_Tech",
          "TheBridge_Tech",
          "TheBridge_Tech",
          "TheBridge_Tech",
          "TheBridge_Tech",
          "TheBridge_Tech",
          "TheBridge_Tech",
          "TheBridge_Tech",
          "TheBridge_Tech",
          "TheBridge_Tech",
          "TheBridge_Tech",
          "TheBridge_Tech",
          "TheBridge_Tech",
          "TheBridge_Tech",
          "TheBridge_Tech"
         ],
         "xaxis": "x",
         "yaxis": "y"
        },
        {
         "alignmentgroup": "True",
         "bingroup": "x",
         "hovertemplate": "Creator's_Username=%{x}<br>count=%{y}<extra></extra>",
         "legendgroup": "victorianoi",
         "marker": {
          "color": "#EF553B",
          "pattern": {
           "shape": ""
          }
         },
         "name": "victorianoi",
         "nbinsx": 10,
         "offsetgroup": "victorianoi",
         "orientation": "v",
         "showlegend": true,
         "type": "histogram",
         "x": [
          "victorianoi",
          "victorianoi"
         ],
         "xaxis": "x",
         "yaxis": "y"
        },
        {
         "alignmentgroup": "True",
         "bingroup": "x",
         "hovertemplate": "Creator's_Username=%{x}<br>count=%{y}<extra></extra>",
         "legendgroup": "arey",
         "marker": {
          "color": "#00cc96",
          "pattern": {
           "shape": ""
          }
         },
         "name": "arey",
         "nbinsx": 10,
         "offsetgroup": "arey",
         "orientation": "v",
         "showlegend": true,
         "type": "histogram",
         "x": [
          "arey"
         ],
         "xaxis": "x",
         "yaxis": "y"
        },
        {
         "alignmentgroup": "True",
         "bingroup": "x",
         "hovertemplate": "Creator's_Username=%{x}<br>count=%{y}<extra></extra>",
         "legendgroup": "AccentureSpain",
         "marker": {
          "color": "#ab63fa",
          "pattern": {
           "shape": ""
          }
         },
         "name": "AccentureSpain",
         "nbinsx": 10,
         "offsetgroup": "AccentureSpain",
         "orientation": "v",
         "showlegend": true,
         "type": "histogram",
         "x": [
          "AccentureSpain"
         ],
         "xaxis": "x",
         "yaxis": "y"
        },
        {
         "alignmentgroup": "True",
         "bingroup": "x",
         "hovertemplate": "Creator's_Username=%{x}<br>count=%{y}<extra></extra>",
         "legendgroup": "LucaMefisto",
         "marker": {
          "color": "#FFA15A",
          "pattern": {
           "shape": ""
          }
         },
         "name": "LucaMefisto",
         "nbinsx": 10,
         "offsetgroup": "LucaMefisto",
         "orientation": "v",
         "showlegend": true,
         "type": "histogram",
         "x": [
          "LucaMefisto"
         ],
         "xaxis": "x",
         "yaxis": "y"
        },
        {
         "alignmentgroup": "True",
         "bingroup": "x",
         "hovertemplate": "Creator's_Username=%{x}<br>count=%{y}<extra></extra>",
         "legendgroup": "kairos_ds",
         "marker": {
          "color": "#19d3f3",
          "pattern": {
           "shape": ""
          }
         },
         "name": "kairos_ds",
         "nbinsx": 10,
         "offsetgroup": "kairos_ds",
         "orientation": "v",
         "showlegend": true,
         "type": "histogram",
         "x": [
          "kairos_ds"
         ],
         "xaxis": "x",
         "yaxis": "y"
        },
        {
         "alignmentgroup": "True",
         "bingroup": "x",
         "hovertemplate": "Creator's_Username=%{x}<br>count=%{y}<extra></extra>",
         "legendgroup": "pmdr_1189",
         "marker": {
          "color": "#FF6692",
          "pattern": {
           "shape": ""
          }
         },
         "name": "pmdr_1189",
         "nbinsx": 10,
         "offsetgroup": "pmdr_1189",
         "orientation": "v",
         "showlegend": true,
         "type": "histogram",
         "x": [
          "pmdr_1189"
         ],
         "xaxis": "x",
         "yaxis": "y"
        },
        {
         "alignmentgroup": "True",
         "bingroup": "x",
         "hovertemplate": "Creator's_Username=%{x}<br>count=%{y}<extra></extra>",
         "legendgroup": "quierodata",
         "marker": {
          "color": "#B6E880",
          "pattern": {
           "shape": ""
          }
         },
         "name": "quierodata",
         "nbinsx": 10,
         "offsetgroup": "quierodata",
         "orientation": "v",
         "showlegend": true,
         "type": "histogram",
         "x": [
          "quierodata"
         ],
         "xaxis": "x",
         "yaxis": "y"
        },
        {
         "alignmentgroup": "True",
         "bingroup": "x",
         "hovertemplate": "Creator's_Username=%{x}<br>count=%{y}<extra></extra>",
         "legendgroup": "Globant",
         "marker": {
          "color": "#FF97FF",
          "pattern": {
           "shape": ""
          }
         },
         "name": "Globant",
         "nbinsx": 10,
         "offsetgroup": "Globant",
         "orientation": "v",
         "showlegend": true,
         "type": "histogram",
         "x": [
          "Globant",
          "Globant",
          "Globant"
         ],
         "xaxis": "x",
         "yaxis": "y"
        },
        {
         "alignmentgroup": "True",
         "bingroup": "x",
         "hovertemplate": "Creator's_Username=%{x}<br>count=%{y}<extra></extra>",
         "legendgroup": "RainG",
         "marker": {
          "color": "#FECB52",
          "pattern": {
           "shape": ""
          }
         },
         "name": "RainG",
         "nbinsx": 10,
         "offsetgroup": "RainG",
         "orientation": "v",
         "showlegend": true,
         "type": "histogram",
         "x": [
          "RainG"
         ],
         "xaxis": "x",
         "yaxis": "y"
        },
        {
         "alignmentgroup": "True",
         "bingroup": "x",
         "hovertemplate": "Creator's_Username=%{x}<br>count=%{y}<extra></extra>",
         "legendgroup": "Meta",
         "marker": {
          "color": "#636efa",
          "pattern": {
           "shape": ""
          }
         },
         "name": "Meta",
         "nbinsx": 10,
         "offsetgroup": "Meta",
         "orientation": "v",
         "showlegend": true,
         "type": "histogram",
         "x": [
          "Meta"
         ],
         "xaxis": "x",
         "yaxis": "y"
        },
        {
         "alignmentgroup": "True",
         "bingroup": "x",
         "hovertemplate": "Creator's_Username=%{x}<br>count=%{y}<extra></extra>",
         "legendgroup": "Telefonica",
         "marker": {
          "color": "#EF553B",
          "pattern": {
           "shape": ""
          }
         },
         "name": "Telefonica",
         "nbinsx": 10,
         "offsetgroup": "Telefonica",
         "orientation": "v",
         "showlegend": true,
         "type": "histogram",
         "x": [
          "Telefonica"
         ],
         "xaxis": "x",
         "yaxis": "y"
        },
        {
         "alignmentgroup": "True",
         "bingroup": "x",
         "hovertemplate": "Creator's_Username=%{x}<br>count=%{y}<extra></extra>",
         "legendgroup": "MujeresaSeguir",
         "marker": {
          "color": "#00cc96",
          "pattern": {
           "shape": ""
          }
         },
         "name": "MujeresaSeguir",
         "nbinsx": 10,
         "offsetgroup": "MujeresaSeguir",
         "orientation": "v",
         "showlegend": true,
         "type": "histogram",
         "x": [
          "MujeresaSeguir",
          "MujeresaSeguir"
         ],
         "xaxis": "x",
         "yaxis": "y"
        },
        {
         "alignmentgroup": "True",
         "bingroup": "x",
         "hovertemplate": "Creator's_Username=%{x}<br>count=%{y}<extra></extra>",
         "legendgroup": "bertinha84",
         "marker": {
          "color": "#ab63fa",
          "pattern": {
           "shape": ""
          }
         },
         "name": "bertinha84",
         "nbinsx": 10,
         "offsetgroup": "bertinha84",
         "orientation": "v",
         "showlegend": true,
         "type": "histogram",
         "x": [
          "bertinha84",
          "bertinha84",
          "bertinha84",
          "bertinha84",
          "bertinha84"
         ],
         "xaxis": "x",
         "yaxis": "y"
        },
        {
         "alignmentgroup": "True",
         "bingroup": "x",
         "hovertemplate": "Creator's_Username=%{x}<br>count=%{y}<extra></extra>",
         "legendgroup": "AndreaMaganRey",
         "marker": {
          "color": "#FFA15A",
          "pattern": {
           "shape": ""
          }
         },
         "name": "AndreaMaganRey",
         "nbinsx": 10,
         "offsetgroup": "AndreaMaganRey",
         "orientation": "v",
         "showlegend": true,
         "type": "histogram",
         "x": [
          "AndreaMaganRey"
         ],
         "xaxis": "x",
         "yaxis": "y"
        },
        {
         "alignmentgroup": "True",
         "bingroup": "x",
         "hovertemplate": "Creator's_Username=%{x}<br>count=%{y}<extra></extra>",
         "legendgroup": "alinnfm",
         "marker": {
          "color": "#19d3f3",
          "pattern": {
           "shape": ""
          }
         },
         "name": "alinnfm",
         "nbinsx": 10,
         "offsetgroup": "alinnfm",
         "orientation": "v",
         "showlegend": true,
         "type": "histogram",
         "x": [
          "alinnfm"
         ],
         "xaxis": "x",
         "yaxis": "y"
        },
        {
         "alignmentgroup": "True",
         "bingroup": "x",
         "hovertemplate": "Creator's_Username=%{x}<br>count=%{y}<extra></extra>",
         "legendgroup": "marcosDLCS",
         "marker": {
          "color": "#FF6692",
          "pattern": {
           "shape": ""
          }
         },
         "name": "marcosDLCS",
         "nbinsx": 10,
         "offsetgroup": "marcosDLCS",
         "orientation": "v",
         "showlegend": true,
         "type": "histogram",
         "x": [
          "marcosDLCS"
         ],
         "xaxis": "x",
         "yaxis": "y"
        },
        {
         "alignmentgroup": "True",
         "bingroup": "x",
         "hovertemplate": "Creator's_Username=%{x}<br>count=%{y}<extra></extra>",
         "legendgroup": "manufosela",
         "marker": {
          "color": "#B6E880",
          "pattern": {
           "shape": ""
          }
         },
         "name": "manufosela",
         "nbinsx": 10,
         "offsetgroup": "manufosela",
         "orientation": "v",
         "showlegend": true,
         "type": "histogram",
         "x": [
          "manufosela",
          "manufosela"
         ],
         "xaxis": "x",
         "yaxis": "y"
        },
        {
         "alignmentgroup": "True",
         "bingroup": "x",
         "hovertemplate": "Creator's_Username=%{x}<br>count=%{y}<extra></extra>",
         "legendgroup": "Adalab_Digital",
         "marker": {
          "color": "#FF97FF",
          "pattern": {
           "shape": ""
          }
         },
         "name": "Adalab_Digital",
         "nbinsx": 10,
         "offsetgroup": "Adalab_Digital",
         "orientation": "v",
         "showlegend": true,
         "type": "histogram",
         "x": [
          "Adalab_Digital",
          "Adalab_Digital"
         ],
         "xaxis": "x",
         "yaxis": "y"
        },
        {
         "alignmentgroup": "True",
         "bingroup": "x",
         "hovertemplate": "Creator's_Username=%{x}<br>count=%{y}<extra></extra>",
         "legendgroup": "assemblerinstit",
         "marker": {
          "color": "#FECB52",
          "pattern": {
           "shape": ""
          }
         },
         "name": "assemblerinstit",
         "nbinsx": 10,
         "offsetgroup": "assemblerinstit",
         "orientation": "v",
         "showlegend": true,
         "type": "histogram",
         "x": [
          "assemblerinstit"
         ],
         "xaxis": "x",
         "yaxis": "y"
        },
        {
         "alignmentgroup": "True",
         "bingroup": "x",
         "hovertemplate": "Creator's_Username=%{x}<br>count=%{y}<extra></extra>",
         "legendgroup": "raulcotrina",
         "marker": {
          "color": "#636efa",
          "pattern": {
           "shape": ""
          }
         },
         "name": "raulcotrina",
         "nbinsx": 10,
         "offsetgroup": "raulcotrina",
         "orientation": "v",
         "showlegend": true,
         "type": "histogram",
         "x": [
          "raulcotrina"
         ],
         "xaxis": "x",
         "yaxis": "y"
        },
        {
         "alignmentgroup": "True",
         "bingroup": "x",
         "hovertemplate": "Creator's_Username=%{x}<br>count=%{y}<extra></extra>",
         "legendgroup": "JuanJoseJuarez",
         "marker": {
          "color": "#EF553B",
          "pattern": {
           "shape": ""
          }
         },
         "name": "JuanJoseJuarez",
         "nbinsx": 10,
         "offsetgroup": "JuanJoseJuarez",
         "orientation": "v",
         "showlegend": true,
         "type": "histogram",
         "x": [
          "JuanJoseJuarez",
          "JuanJoseJuarez"
         ],
         "xaxis": "x",
         "yaxis": "y"
        },
        {
         "alignmentgroup": "True",
         "bingroup": "x",
         "hovertemplate": "Creator's_Username=%{x}<br>count=%{y}<extra></extra>",
         "legendgroup": "asanjoseperez",
         "marker": {
          "color": "#00cc96",
          "pattern": {
           "shape": ""
          }
         },
         "name": "asanjoseperez",
         "nbinsx": 10,
         "offsetgroup": "asanjoseperez",
         "orientation": "v",
         "showlegend": true,
         "type": "histogram",
         "x": [
          "asanjoseperez"
         ],
         "xaxis": "x",
         "yaxis": "y"
        },
        {
         "alignmentgroup": "True",
         "bingroup": "x",
         "hovertemplate": "Creator's_Username=%{x}<br>count=%{y}<extra></extra>",
         "legendgroup": "camaradesevilla",
         "marker": {
          "color": "#ab63fa",
          "pattern": {
           "shape": ""
          }
         },
         "name": "camaradesevilla",
         "nbinsx": 10,
         "offsetgroup": "camaradesevilla",
         "orientation": "v",
         "showlegend": true,
         "type": "histogram",
         "x": [
          "camaradesevilla",
          "camaradesevilla"
         ],
         "xaxis": "x",
         "yaxis": "y"
        },
        {
         "alignmentgroup": "True",
         "bingroup": "x",
         "hovertemplate": "Creator's_Username=%{x}<br>count=%{y}<extra></extra>",
         "legendgroup": "simplilearn",
         "marker": {
          "color": "#FFA15A",
          "pattern": {
           "shape": ""
          }
         },
         "name": "simplilearn",
         "nbinsx": 10,
         "offsetgroup": "simplilearn",
         "orientation": "v",
         "showlegend": true,
         "type": "histogram",
         "x": [
          "simplilearn"
         ],
         "xaxis": "x",
         "yaxis": "y"
        },
        {
         "alignmentgroup": "True",
         "bingroup": "x",
         "hovertemplate": "Creator's_Username=%{x}<br>count=%{y}<extra></extra>",
         "legendgroup": "Level_Effect",
         "marker": {
          "color": "#19d3f3",
          "pattern": {
           "shape": ""
          }
         },
         "name": "Level_Effect",
         "nbinsx": 10,
         "offsetgroup": "Level_Effect",
         "orientation": "v",
         "showlegend": true,
         "type": "histogram",
         "x": [
          "Level_Effect"
         ],
         "xaxis": "x",
         "yaxis": "y"
        },
        {
         "alignmentgroup": "True",
         "bingroup": "x",
         "hovertemplate": "Creator's_Username=%{x}<br>count=%{y}<extra></extra>",
         "legendgroup": "PICKYUAN",
         "marker": {
          "color": "#FF6692",
          "pattern": {
           "shape": ""
          }
         },
         "name": "PICKYUAN",
         "nbinsx": 10,
         "offsetgroup": "PICKYUAN",
         "orientation": "v",
         "showlegend": true,
         "type": "histogram",
         "x": [
          "PICKYUAN"
         ],
         "xaxis": "x",
         "yaxis": "y"
        },
        {
         "alignmentgroup": "True",
         "bingroup": "x",
         "hovertemplate": "Creator's_Username=%{x}<br>count=%{y}<extra></extra>",
         "legendgroup": "vicencf",
         "marker": {
          "color": "#B6E880",
          "pattern": {
           "shape": ""
          }
         },
         "name": "vicencf",
         "nbinsx": 10,
         "offsetgroup": "vicencf",
         "orientation": "v",
         "showlegend": true,
         "type": "histogram",
         "x": [
          "vicencf"
         ],
         "xaxis": "x",
         "yaxis": "y"
        },
        {
         "alignmentgroup": "True",
         "bingroup": "x",
         "hovertemplate": "Creator's_Username=%{x}<br>count=%{y}<extra></extra>",
         "legendgroup": "EduvigisOrtiz",
         "marker": {
          "color": "#FF97FF",
          "pattern": {
           "shape": ""
          }
         },
         "name": "EduvigisOrtiz",
         "nbinsx": 10,
         "offsetgroup": "EduvigisOrtiz",
         "orientation": "v",
         "showlegend": true,
         "type": "histogram",
         "x": [
          "EduvigisOrtiz"
         ],
         "xaxis": "x",
         "yaxis": "y"
        },
        {
         "alignmentgroup": "True",
         "bingroup": "x",
         "hovertemplate": "Creator's_Username=%{x}<br>count=%{y}<extra></extra>",
         "legendgroup": "IndraCompany",
         "marker": {
          "color": "#FECB52",
          "pattern": {
           "shape": ""
          }
         },
         "name": "IndraCompany",
         "nbinsx": 10,
         "offsetgroup": "IndraCompany",
         "orientation": "v",
         "showlegend": true,
         "type": "histogram",
         "x": [
          "IndraCompany",
          "IndraCompany",
          "IndraCompany"
         ],
         "xaxis": "x",
         "yaxis": "y"
        },
        {
         "alignmentgroup": "True",
         "bingroup": "x",
         "hovertemplate": "Creator's_Username=%{x}<br>count=%{y}<extra></extra>",
         "legendgroup": "peritecno",
         "marker": {
          "color": "#636efa",
          "pattern": {
           "shape": ""
          }
         },
         "name": "peritecno",
         "nbinsx": 10,
         "offsetgroup": "peritecno",
         "orientation": "v",
         "showlegend": true,
         "type": "histogram",
         "x": [
          "peritecno",
          "peritecno"
         ],
         "xaxis": "x",
         "yaxis": "y"
        },
        {
         "alignmentgroup": "True",
         "bingroup": "x",
         "hovertemplate": "Creator's_Username=%{x}<br>count=%{y}<extra></extra>",
         "legendgroup": "uxbs_podcast",
         "marker": {
          "color": "#EF553B",
          "pattern": {
           "shape": ""
          }
         },
         "name": "uxbs_podcast",
         "nbinsx": 10,
         "offsetgroup": "uxbs_podcast",
         "orientation": "v",
         "showlegend": true,
         "type": "histogram",
         "x": [
          "uxbs_podcast"
         ],
         "xaxis": "x",
         "yaxis": "y"
        },
        {
         "alignmentgroup": "True",
         "bingroup": "x",
         "hovertemplate": "Creator's_Username=%{x}<br>count=%{y}<extra></extra>",
         "legendgroup": "apicatalunya",
         "marker": {
          "color": "#00cc96",
          "pattern": {
           "shape": ""
          }
         },
         "name": "apicatalunya",
         "nbinsx": 10,
         "offsetgroup": "apicatalunya",
         "orientation": "v",
         "showlegend": true,
         "type": "histogram",
         "x": [
          "apicatalunya"
         ],
         "xaxis": "x",
         "yaxis": "y"
        },
        {
         "alignmentgroup": "True",
         "bingroup": "x",
         "hovertemplate": "Creator's_Username=%{x}<br>count=%{y}<extra></extra>",
         "legendgroup": "ENCamaraSevilla",
         "marker": {
          "color": "#ab63fa",
          "pattern": {
           "shape": ""
          }
         },
         "name": "ENCamaraSevilla",
         "nbinsx": 10,
         "offsetgroup": "ENCamaraSevilla",
         "orientation": "v",
         "showlegend": true,
         "type": "histogram",
         "x": [
          "ENCamaraSevilla"
         ],
         "xaxis": "x",
         "yaxis": "y"
        },
        {
         "alignmentgroup": "True",
         "bingroup": "x",
         "hovertemplate": "Creator's_Username=%{x}<br>count=%{y}<extra></extra>",
         "legendgroup": "FUniversia",
         "marker": {
          "color": "#FFA15A",
          "pattern": {
           "shape": ""
          }
         },
         "name": "FUniversia",
         "nbinsx": 10,
         "offsetgroup": "FUniversia",
         "orientation": "v",
         "showlegend": true,
         "type": "histogram",
         "x": [
          "FUniversia",
          "FUniversia",
          "FUniversia"
         ],
         "xaxis": "x",
         "yaxis": "y"
        },
        {
         "alignmentgroup": "True",
         "bingroup": "x",
         "hovertemplate": "Creator's_Username=%{x}<br>count=%{y}<extra></extra>",
         "legendgroup": "kenia913",
         "marker": {
          "color": "#19d3f3",
          "pattern": {
           "shape": ""
          }
         },
         "name": "kenia913",
         "nbinsx": 10,
         "offsetgroup": "kenia913",
         "orientation": "v",
         "showlegend": true,
         "type": "histogram",
         "x": [
          "kenia913"
         ],
         "xaxis": "x",
         "yaxis": "y"
        },
        {
         "alignmentgroup": "True",
         "bingroup": "x",
         "hovertemplate": "Creator's_Username=%{x}<br>count=%{y}<extra></extra>",
         "legendgroup": "UniversiaES",
         "marker": {
          "color": "#FF6692",
          "pattern": {
           "shape": ""
          }
         },
         "name": "UniversiaES",
         "nbinsx": 10,
         "offsetgroup": "UniversiaES",
         "orientation": "v",
         "showlegend": true,
         "type": "histogram",
         "x": [
          "UniversiaES"
         ],
         "xaxis": "x",
         "yaxis": "y"
        },
        {
         "alignmentgroup": "True",
         "bingroup": "x",
         "hovertemplate": "Creator's_Username=%{x}<br>count=%{y}<extra></extra>",
         "legendgroup": "rayadvd",
         "marker": {
          "color": "#B6E880",
          "pattern": {
           "shape": ""
          }
         },
         "name": "rayadvd",
         "nbinsx": 10,
         "offsetgroup": "rayadvd",
         "orientation": "v",
         "showlegend": true,
         "type": "histogram",
         "x": [
          "rayadvd",
          "rayadvd"
         ],
         "xaxis": "x",
         "yaxis": "y"
        },
        {
         "alignmentgroup": "True",
         "bingroup": "x",
         "hovertemplate": "Creator's_Username=%{x}<br>count=%{y}<extra></extra>",
         "legendgroup": "cbusquets",
         "marker": {
          "color": "#FF97FF",
          "pattern": {
           "shape": ""
          }
         },
         "name": "cbusquets",
         "nbinsx": 10,
         "offsetgroup": "cbusquets",
         "orientation": "v",
         "showlegend": true,
         "type": "histogram",
         "x": [
          "cbusquets"
         ],
         "xaxis": "x",
         "yaxis": "y"
        }
       ],
       "layout": {
        "bargap": 0.2,
        "barmode": "relative",
        "legend": {
         "title": {
          "text": "Creator's_Username"
         },
         "tracegroupgap": 0
        },
        "margin": {
         "t": 60
        },
        "template": {
         "data": {
          "bar": [
           {
            "error_x": {
             "color": "#2a3f5f"
            },
            "error_y": {
             "color": "#2a3f5f"
            },
            "marker": {
             "line": {
              "color": "#E5ECF6",
              "width": 0.5
             },
             "pattern": {
              "fillmode": "overlay",
              "size": 10,
              "solidity": 0.2
             }
            },
            "type": "bar"
           }
          ],
          "barpolar": [
           {
            "marker": {
             "line": {
              "color": "#E5ECF6",
              "width": 0.5
             },
             "pattern": {
              "fillmode": "overlay",
              "size": 10,
              "solidity": 0.2
             }
            },
            "type": "barpolar"
           }
          ],
          "carpet": [
           {
            "aaxis": {
             "endlinecolor": "#2a3f5f",
             "gridcolor": "white",
             "linecolor": "white",
             "minorgridcolor": "white",
             "startlinecolor": "#2a3f5f"
            },
            "baxis": {
             "endlinecolor": "#2a3f5f",
             "gridcolor": "white",
             "linecolor": "white",
             "minorgridcolor": "white",
             "startlinecolor": "#2a3f5f"
            },
            "type": "carpet"
           }
          ],
          "choropleth": [
           {
            "colorbar": {
             "outlinewidth": 0,
             "ticks": ""
            },
            "type": "choropleth"
           }
          ],
          "contour": [
           {
            "colorbar": {
             "outlinewidth": 0,
             "ticks": ""
            },
            "colorscale": [
             [
              0,
              "#0d0887"
             ],
             [
              0.1111111111111111,
              "#46039f"
             ],
             [
              0.2222222222222222,
              "#7201a8"
             ],
             [
              0.3333333333333333,
              "#9c179e"
             ],
             [
              0.4444444444444444,
              "#bd3786"
             ],
             [
              0.5555555555555556,
              "#d8576b"
             ],
             [
              0.6666666666666666,
              "#ed7953"
             ],
             [
              0.7777777777777778,
              "#fb9f3a"
             ],
             [
              0.8888888888888888,
              "#fdca26"
             ],
             [
              1,
              "#f0f921"
             ]
            ],
            "type": "contour"
           }
          ],
          "contourcarpet": [
           {
            "colorbar": {
             "outlinewidth": 0,
             "ticks": ""
            },
            "type": "contourcarpet"
           }
          ],
          "heatmap": [
           {
            "colorbar": {
             "outlinewidth": 0,
             "ticks": ""
            },
            "colorscale": [
             [
              0,
              "#0d0887"
             ],
             [
              0.1111111111111111,
              "#46039f"
             ],
             [
              0.2222222222222222,
              "#7201a8"
             ],
             [
              0.3333333333333333,
              "#9c179e"
             ],
             [
              0.4444444444444444,
              "#bd3786"
             ],
             [
              0.5555555555555556,
              "#d8576b"
             ],
             [
              0.6666666666666666,
              "#ed7953"
             ],
             [
              0.7777777777777778,
              "#fb9f3a"
             ],
             [
              0.8888888888888888,
              "#fdca26"
             ],
             [
              1,
              "#f0f921"
             ]
            ],
            "type": "heatmap"
           }
          ],
          "heatmapgl": [
           {
            "colorbar": {
             "outlinewidth": 0,
             "ticks": ""
            },
            "colorscale": [
             [
              0,
              "#0d0887"
             ],
             [
              0.1111111111111111,
              "#46039f"
             ],
             [
              0.2222222222222222,
              "#7201a8"
             ],
             [
              0.3333333333333333,
              "#9c179e"
             ],
             [
              0.4444444444444444,
              "#bd3786"
             ],
             [
              0.5555555555555556,
              "#d8576b"
             ],
             [
              0.6666666666666666,
              "#ed7953"
             ],
             [
              0.7777777777777778,
              "#fb9f3a"
             ],
             [
              0.8888888888888888,
              "#fdca26"
             ],
             [
              1,
              "#f0f921"
             ]
            ],
            "type": "heatmapgl"
           }
          ],
          "histogram": [
           {
            "marker": {
             "pattern": {
              "fillmode": "overlay",
              "size": 10,
              "solidity": 0.2
             }
            },
            "type": "histogram"
           }
          ],
          "histogram2d": [
           {
            "colorbar": {
             "outlinewidth": 0,
             "ticks": ""
            },
            "colorscale": [
             [
              0,
              "#0d0887"
             ],
             [
              0.1111111111111111,
              "#46039f"
             ],
             [
              0.2222222222222222,
              "#7201a8"
             ],
             [
              0.3333333333333333,
              "#9c179e"
             ],
             [
              0.4444444444444444,
              "#bd3786"
             ],
             [
              0.5555555555555556,
              "#d8576b"
             ],
             [
              0.6666666666666666,
              "#ed7953"
             ],
             [
              0.7777777777777778,
              "#fb9f3a"
             ],
             [
              0.8888888888888888,
              "#fdca26"
             ],
             [
              1,
              "#f0f921"
             ]
            ],
            "type": "histogram2d"
           }
          ],
          "histogram2dcontour": [
           {
            "colorbar": {
             "outlinewidth": 0,
             "ticks": ""
            },
            "colorscale": [
             [
              0,
              "#0d0887"
             ],
             [
              0.1111111111111111,
              "#46039f"
             ],
             [
              0.2222222222222222,
              "#7201a8"
             ],
             [
              0.3333333333333333,
              "#9c179e"
             ],
             [
              0.4444444444444444,
              "#bd3786"
             ],
             [
              0.5555555555555556,
              "#d8576b"
             ],
             [
              0.6666666666666666,
              "#ed7953"
             ],
             [
              0.7777777777777778,
              "#fb9f3a"
             ],
             [
              0.8888888888888888,
              "#fdca26"
             ],
             [
              1,
              "#f0f921"
             ]
            ],
            "type": "histogram2dcontour"
           }
          ],
          "mesh3d": [
           {
            "colorbar": {
             "outlinewidth": 0,
             "ticks": ""
            },
            "type": "mesh3d"
           }
          ],
          "parcoords": [
           {
            "line": {
             "colorbar": {
              "outlinewidth": 0,
              "ticks": ""
             }
            },
            "type": "parcoords"
           }
          ],
          "pie": [
           {
            "automargin": true,
            "type": "pie"
           }
          ],
          "scatter": [
           {
            "fillpattern": {
             "fillmode": "overlay",
             "size": 10,
             "solidity": 0.2
            },
            "type": "scatter"
           }
          ],
          "scatter3d": [
           {
            "line": {
             "colorbar": {
              "outlinewidth": 0,
              "ticks": ""
             }
            },
            "marker": {
             "colorbar": {
              "outlinewidth": 0,
              "ticks": ""
             }
            },
            "type": "scatter3d"
           }
          ],
          "scattercarpet": [
           {
            "marker": {
             "colorbar": {
              "outlinewidth": 0,
              "ticks": ""
             }
            },
            "type": "scattercarpet"
           }
          ],
          "scattergeo": [
           {
            "marker": {
             "colorbar": {
              "outlinewidth": 0,
              "ticks": ""
             }
            },
            "type": "scattergeo"
           }
          ],
          "scattergl": [
           {
            "marker": {
             "colorbar": {
              "outlinewidth": 0,
              "ticks": ""
             }
            },
            "type": "scattergl"
           }
          ],
          "scattermapbox": [
           {
            "marker": {
             "colorbar": {
              "outlinewidth": 0,
              "ticks": ""
             }
            },
            "type": "scattermapbox"
           }
          ],
          "scatterpolar": [
           {
            "marker": {
             "colorbar": {
              "outlinewidth": 0,
              "ticks": ""
             }
            },
            "type": "scatterpolar"
           }
          ],
          "scatterpolargl": [
           {
            "marker": {
             "colorbar": {
              "outlinewidth": 0,
              "ticks": ""
             }
            },
            "type": "scatterpolargl"
           }
          ],
          "scatterternary": [
           {
            "marker": {
             "colorbar": {
              "outlinewidth": 0,
              "ticks": ""
             }
            },
            "type": "scatterternary"
           }
          ],
          "surface": [
           {
            "colorbar": {
             "outlinewidth": 0,
             "ticks": ""
            },
            "colorscale": [
             [
              0,
              "#0d0887"
             ],
             [
              0.1111111111111111,
              "#46039f"
             ],
             [
              0.2222222222222222,
              "#7201a8"
             ],
             [
              0.3333333333333333,
              "#9c179e"
             ],
             [
              0.4444444444444444,
              "#bd3786"
             ],
             [
              0.5555555555555556,
              "#d8576b"
             ],
             [
              0.6666666666666666,
              "#ed7953"
             ],
             [
              0.7777777777777778,
              "#fb9f3a"
             ],
             [
              0.8888888888888888,
              "#fdca26"
             ],
             [
              1,
              "#f0f921"
             ]
            ],
            "type": "surface"
           }
          ],
          "table": [
           {
            "cells": {
             "fill": {
              "color": "#EBF0F8"
             },
             "line": {
              "color": "white"
             }
            },
            "header": {
             "fill": {
              "color": "#C8D4E3"
             },
             "line": {
              "color": "white"
             }
            },
            "type": "table"
           }
          ]
         },
         "layout": {
          "annotationdefaults": {
           "arrowcolor": "#2a3f5f",
           "arrowhead": 0,
           "arrowwidth": 1
          },
          "autotypenumbers": "strict",
          "coloraxis": {
           "colorbar": {
            "outlinewidth": 0,
            "ticks": ""
           }
          },
          "colorscale": {
           "diverging": [
            [
             0,
             "#8e0152"
            ],
            [
             0.1,
             "#c51b7d"
            ],
            [
             0.2,
             "#de77ae"
            ],
            [
             0.3,
             "#f1b6da"
            ],
            [
             0.4,
             "#fde0ef"
            ],
            [
             0.5,
             "#f7f7f7"
            ],
            [
             0.6,
             "#e6f5d0"
            ],
            [
             0.7,
             "#b8e186"
            ],
            [
             0.8,
             "#7fbc41"
            ],
            [
             0.9,
             "#4d9221"
            ],
            [
             1,
             "#276419"
            ]
           ],
           "sequential": [
            [
             0,
             "#0d0887"
            ],
            [
             0.1111111111111111,
             "#46039f"
            ],
            [
             0.2222222222222222,
             "#7201a8"
            ],
            [
             0.3333333333333333,
             "#9c179e"
            ],
            [
             0.4444444444444444,
             "#bd3786"
            ],
            [
             0.5555555555555556,
             "#d8576b"
            ],
            [
             0.6666666666666666,
             "#ed7953"
            ],
            [
             0.7777777777777778,
             "#fb9f3a"
            ],
            [
             0.8888888888888888,
             "#fdca26"
            ],
            [
             1,
             "#f0f921"
            ]
           ],
           "sequentialminus": [
            [
             0,
             "#0d0887"
            ],
            [
             0.1111111111111111,
             "#46039f"
            ],
            [
             0.2222222222222222,
             "#7201a8"
            ],
            [
             0.3333333333333333,
             "#9c179e"
            ],
            [
             0.4444444444444444,
             "#bd3786"
            ],
            [
             0.5555555555555556,
             "#d8576b"
            ],
            [
             0.6666666666666666,
             "#ed7953"
            ],
            [
             0.7777777777777778,
             "#fb9f3a"
            ],
            [
             0.8888888888888888,
             "#fdca26"
            ],
            [
             1,
             "#f0f921"
            ]
           ]
          },
          "colorway": [
           "#636efa",
           "#EF553B",
           "#00cc96",
           "#ab63fa",
           "#FFA15A",
           "#19d3f3",
           "#FF6692",
           "#B6E880",
           "#FF97FF",
           "#FECB52"
          ],
          "font": {
           "color": "#2a3f5f"
          },
          "geo": {
           "bgcolor": "white",
           "lakecolor": "white",
           "landcolor": "#E5ECF6",
           "showlakes": true,
           "showland": true,
           "subunitcolor": "white"
          },
          "hoverlabel": {
           "align": "left"
          },
          "hovermode": "closest",
          "mapbox": {
           "style": "light"
          },
          "paper_bgcolor": "white",
          "plot_bgcolor": "#E5ECF6",
          "polar": {
           "angularaxis": {
            "gridcolor": "white",
            "linecolor": "white",
            "ticks": ""
           },
           "bgcolor": "#E5ECF6",
           "radialaxis": {
            "gridcolor": "white",
            "linecolor": "white",
            "ticks": ""
           }
          },
          "scene": {
           "xaxis": {
            "backgroundcolor": "#E5ECF6",
            "gridcolor": "white",
            "gridwidth": 2,
            "linecolor": "white",
            "showbackground": true,
            "ticks": "",
            "zerolinecolor": "white"
           },
           "yaxis": {
            "backgroundcolor": "#E5ECF6",
            "gridcolor": "white",
            "gridwidth": 2,
            "linecolor": "white",
            "showbackground": true,
            "ticks": "",
            "zerolinecolor": "white"
           },
           "zaxis": {
            "backgroundcolor": "#E5ECF6",
            "gridcolor": "white",
            "gridwidth": 2,
            "linecolor": "white",
            "showbackground": true,
            "ticks": "",
            "zerolinecolor": "white"
           }
          },
          "shapedefaults": {
           "line": {
            "color": "#2a3f5f"
           }
          },
          "ternary": {
           "aaxis": {
            "gridcolor": "white",
            "linecolor": "white",
            "ticks": ""
           },
           "baxis": {
            "gridcolor": "white",
            "linecolor": "white",
            "ticks": ""
           },
           "bgcolor": "#E5ECF6",
           "caxis": {
            "gridcolor": "white",
            "linecolor": "white",
            "ticks": ""
           }
          },
          "title": {
           "x": 0.05
          },
          "xaxis": {
           "automargin": true,
           "gridcolor": "white",
           "linecolor": "white",
           "ticks": "",
           "title": {
            "standoff": 15
           },
           "zerolinecolor": "white",
           "zerolinewidth": 2
          },
          "yaxis": {
           "automargin": true,
           "gridcolor": "white",
           "linecolor": "white",
           "ticks": "",
           "title": {
            "standoff": 15
           },
           "zerolinecolor": "white",
           "zerolinewidth": 2
          }
         }
        },
        "title": {
         "text": "Users who most quotes to the school"
        },
        "xaxis": {
         "anchor": "y",
         "categoryarray": [
          "TheBridge_Tech",
          "victorianoi",
          "arey",
          "AccentureSpain",
          "LucaMefisto",
          "kairos_ds",
          "pmdr_1189",
          "quierodata",
          "Globant",
          "RainG",
          "Meta",
          "Telefonica",
          "MujeresaSeguir",
          "bertinha84",
          "AndreaMaganRey",
          "alinnfm",
          "marcosDLCS",
          "manufosela",
          "Adalab_Digital",
          "assemblerinstit",
          "raulcotrina",
          "JuanJoseJuarez",
          "asanjoseperez",
          "camaradesevilla",
          "simplilearn",
          "Level_Effect",
          "PICKYUAN",
          "vicencf",
          "EduvigisOrtiz",
          "IndraCompany",
          "peritecno",
          "uxbs_podcast",
          "apicatalunya",
          "ENCamaraSevilla",
          "FUniversia",
          "kenia913",
          "UniversiaES",
          "rayadvd",
          "cbusquets"
         ],
         "categoryorder": "array",
         "domain": [
          0,
          1
         ],
         "title": {
          "text": "Creator's_Username"
         }
        },
        "yaxis": {
         "anchor": "x",
         "domain": [
          0,
          1
         ],
         "title": {
          "text": "count"
         }
        }
       }
      }
     },
     "metadata": {},
     "output_type": "display_data"
    }
   ],
   "source": [
    "fig = px.histogram(tweets, x=\"Creator's_Username\", nbins=10, color=\"Creator's_Username\", hover_data=[\"Creator's_Username\"])\n",
    "fig.update_layout(bargap=0.2, title=\"Users who most quotes to the school\")\n",
    "fig.show()"
   ]
  },
  {
   "cell_type": "markdown",
   "metadata": {},
   "source": [
    "We see that, by difference, the account that quotes The Bridge the most is itself, this is due to the autoretweets and self-quotes that are usually done to show recent tweets so that they have more impact, followed by this, the account that quotes the most The Bridge different from itself is `bertinha84`"
   ]
  },
  {
   "cell_type": "markdown",
   "metadata": {},
   "source": [
    "Solving point 3"
   ]
  },
  {
   "cell_type": "code",
   "execution_count": 13,
   "metadata": {},
   "outputs": [],
   "source": [
    "tweets[\"Date\"] = pd.to_datetime(tweets[\"Date\"])\n",
    "tweets[\"Month\"] = list(map(lambda x: x.month, tweets[\"Date\"]))\n",
    "tweets[\"Month\"] = tweets[\"Month\"].map({1 : \"January\", 2 : \"February\", 3 : \"March\", 4 : \"April\", 5: \"May\"})"
   ]
  },
  {
   "cell_type": "code",
   "execution_count": 25,
   "metadata": {},
   "outputs": [
    {
     "data": {
      "application/vnd.plotly.v1+json": {
       "config": {
        "plotlyServerURL": "https://plotly.com"
       },
       "data": [
        {
         "alignmentgroup": "True",
         "bingroup": "x",
         "hovertemplate": "Month=%{x}<br>count=%{y}<extra></extra>",
         "legendgroup": "May",
         "marker": {
          "color": "#636efa",
          "pattern": {
           "shape": ""
          }
         },
         "name": "May",
         "nbinsx": 5,
         "offsetgroup": "May",
         "orientation": "v",
         "showlegend": true,
         "type": "histogram",
         "x": [
          "May",
          "May",
          "May",
          "May",
          "May",
          "May",
          "May",
          "May",
          "May"
         ],
         "xaxis": "x",
         "yaxis": "y"
        },
        {
         "alignmentgroup": "True",
         "bingroup": "x",
         "hovertemplate": "Month=%{x}<br>count=%{y}<extra></extra>",
         "legendgroup": "April",
         "marker": {
          "color": "#EF553B",
          "pattern": {
           "shape": ""
          }
         },
         "name": "April",
         "nbinsx": 5,
         "offsetgroup": "April",
         "orientation": "v",
         "showlegend": true,
         "type": "histogram",
         "x": [
          "April",
          "April",
          "April",
          "April",
          "April",
          "April",
          "April",
          "April",
          "April",
          "April",
          "April",
          "April",
          "April",
          "April",
          "April",
          "April",
          "April",
          "April",
          "April",
          "April",
          "April",
          "April",
          "April",
          "April",
          "April",
          "April",
          "April",
          "April",
          "April",
          "April",
          "April",
          "April",
          "April",
          "April",
          "April",
          "April",
          "April",
          "April",
          "April",
          "April",
          "April"
         ],
         "xaxis": "x",
         "yaxis": "y"
        },
        {
         "alignmentgroup": "True",
         "bingroup": "x",
         "hovertemplate": "Month=%{x}<br>count=%{y}<extra></extra>",
         "legendgroup": "March",
         "marker": {
          "color": "#00cc96",
          "pattern": {
           "shape": ""
          }
         },
         "name": "March",
         "nbinsx": 5,
         "offsetgroup": "March",
         "orientation": "v",
         "showlegend": true,
         "type": "histogram",
         "x": [
          "March",
          "March",
          "March",
          "March",
          "March",
          "March",
          "March",
          "March",
          "March",
          "March",
          "March",
          "March",
          "March",
          "March",
          "March",
          "March"
         ],
         "xaxis": "x",
         "yaxis": "y"
        },
        {
         "alignmentgroup": "True",
         "bingroup": "x",
         "hovertemplate": "Month=%{x}<br>count=%{y}<extra></extra>",
         "legendgroup": "February",
         "marker": {
          "color": "#ab63fa",
          "pattern": {
           "shape": ""
          }
         },
         "name": "February",
         "nbinsx": 5,
         "offsetgroup": "February",
         "orientation": "v",
         "showlegend": true,
         "type": "histogram",
         "x": [
          "February",
          "February",
          "February",
          "February",
          "February",
          "February",
          "February",
          "February",
          "February",
          "February",
          "February",
          "February",
          "February",
          "February",
          "February",
          "February",
          "February"
         ],
         "xaxis": "x",
         "yaxis": "y"
        },
        {
         "alignmentgroup": "True",
         "bingroup": "x",
         "hovertemplate": "Month=%{x}<br>count=%{y}<extra></extra>",
         "legendgroup": "January",
         "marker": {
          "color": "#FFA15A",
          "pattern": {
           "shape": ""
          }
         },
         "name": "January",
         "nbinsx": 5,
         "offsetgroup": "January",
         "orientation": "v",
         "showlegend": true,
         "type": "histogram",
         "x": [
          "January",
          "January",
          "January",
          "January",
          "January",
          "January",
          "January",
          "January",
          "January",
          "January",
          "January",
          "January",
          "January",
          "January",
          "January"
         ],
         "xaxis": "x",
         "yaxis": "y"
        }
       ],
       "layout": {
        "bargap": 0.2,
        "barmode": "relative",
        "legend": {
         "title": {
          "text": "Month"
         },
         "tracegroupgap": 0
        },
        "margin": {
         "t": 60
        },
        "template": {
         "data": {
          "bar": [
           {
            "error_x": {
             "color": "#2a3f5f"
            },
            "error_y": {
             "color": "#2a3f5f"
            },
            "marker": {
             "line": {
              "color": "#E5ECF6",
              "width": 0.5
             },
             "pattern": {
              "fillmode": "overlay",
              "size": 10,
              "solidity": 0.2
             }
            },
            "type": "bar"
           }
          ],
          "barpolar": [
           {
            "marker": {
             "line": {
              "color": "#E5ECF6",
              "width": 0.5
             },
             "pattern": {
              "fillmode": "overlay",
              "size": 10,
              "solidity": 0.2
             }
            },
            "type": "barpolar"
           }
          ],
          "carpet": [
           {
            "aaxis": {
             "endlinecolor": "#2a3f5f",
             "gridcolor": "white",
             "linecolor": "white",
             "minorgridcolor": "white",
             "startlinecolor": "#2a3f5f"
            },
            "baxis": {
             "endlinecolor": "#2a3f5f",
             "gridcolor": "white",
             "linecolor": "white",
             "minorgridcolor": "white",
             "startlinecolor": "#2a3f5f"
            },
            "type": "carpet"
           }
          ],
          "choropleth": [
           {
            "colorbar": {
             "outlinewidth": 0,
             "ticks": ""
            },
            "type": "choropleth"
           }
          ],
          "contour": [
           {
            "colorbar": {
             "outlinewidth": 0,
             "ticks": ""
            },
            "colorscale": [
             [
              0,
              "#0d0887"
             ],
             [
              0.1111111111111111,
              "#46039f"
             ],
             [
              0.2222222222222222,
              "#7201a8"
             ],
             [
              0.3333333333333333,
              "#9c179e"
             ],
             [
              0.4444444444444444,
              "#bd3786"
             ],
             [
              0.5555555555555556,
              "#d8576b"
             ],
             [
              0.6666666666666666,
              "#ed7953"
             ],
             [
              0.7777777777777778,
              "#fb9f3a"
             ],
             [
              0.8888888888888888,
              "#fdca26"
             ],
             [
              1,
              "#f0f921"
             ]
            ],
            "type": "contour"
           }
          ],
          "contourcarpet": [
           {
            "colorbar": {
             "outlinewidth": 0,
             "ticks": ""
            },
            "type": "contourcarpet"
           }
          ],
          "heatmap": [
           {
            "colorbar": {
             "outlinewidth": 0,
             "ticks": ""
            },
            "colorscale": [
             [
              0,
              "#0d0887"
             ],
             [
              0.1111111111111111,
              "#46039f"
             ],
             [
              0.2222222222222222,
              "#7201a8"
             ],
             [
              0.3333333333333333,
              "#9c179e"
             ],
             [
              0.4444444444444444,
              "#bd3786"
             ],
             [
              0.5555555555555556,
              "#d8576b"
             ],
             [
              0.6666666666666666,
              "#ed7953"
             ],
             [
              0.7777777777777778,
              "#fb9f3a"
             ],
             [
              0.8888888888888888,
              "#fdca26"
             ],
             [
              1,
              "#f0f921"
             ]
            ],
            "type": "heatmap"
           }
          ],
          "heatmapgl": [
           {
            "colorbar": {
             "outlinewidth": 0,
             "ticks": ""
            },
            "colorscale": [
             [
              0,
              "#0d0887"
             ],
             [
              0.1111111111111111,
              "#46039f"
             ],
             [
              0.2222222222222222,
              "#7201a8"
             ],
             [
              0.3333333333333333,
              "#9c179e"
             ],
             [
              0.4444444444444444,
              "#bd3786"
             ],
             [
              0.5555555555555556,
              "#d8576b"
             ],
             [
              0.6666666666666666,
              "#ed7953"
             ],
             [
              0.7777777777777778,
              "#fb9f3a"
             ],
             [
              0.8888888888888888,
              "#fdca26"
             ],
             [
              1,
              "#f0f921"
             ]
            ],
            "type": "heatmapgl"
           }
          ],
          "histogram": [
           {
            "marker": {
             "pattern": {
              "fillmode": "overlay",
              "size": 10,
              "solidity": 0.2
             }
            },
            "type": "histogram"
           }
          ],
          "histogram2d": [
           {
            "colorbar": {
             "outlinewidth": 0,
             "ticks": ""
            },
            "colorscale": [
             [
              0,
              "#0d0887"
             ],
             [
              0.1111111111111111,
              "#46039f"
             ],
             [
              0.2222222222222222,
              "#7201a8"
             ],
             [
              0.3333333333333333,
              "#9c179e"
             ],
             [
              0.4444444444444444,
              "#bd3786"
             ],
             [
              0.5555555555555556,
              "#d8576b"
             ],
             [
              0.6666666666666666,
              "#ed7953"
             ],
             [
              0.7777777777777778,
              "#fb9f3a"
             ],
             [
              0.8888888888888888,
              "#fdca26"
             ],
             [
              1,
              "#f0f921"
             ]
            ],
            "type": "histogram2d"
           }
          ],
          "histogram2dcontour": [
           {
            "colorbar": {
             "outlinewidth": 0,
             "ticks": ""
            },
            "colorscale": [
             [
              0,
              "#0d0887"
             ],
             [
              0.1111111111111111,
              "#46039f"
             ],
             [
              0.2222222222222222,
              "#7201a8"
             ],
             [
              0.3333333333333333,
              "#9c179e"
             ],
             [
              0.4444444444444444,
              "#bd3786"
             ],
             [
              0.5555555555555556,
              "#d8576b"
             ],
             [
              0.6666666666666666,
              "#ed7953"
             ],
             [
              0.7777777777777778,
              "#fb9f3a"
             ],
             [
              0.8888888888888888,
              "#fdca26"
             ],
             [
              1,
              "#f0f921"
             ]
            ],
            "type": "histogram2dcontour"
           }
          ],
          "mesh3d": [
           {
            "colorbar": {
             "outlinewidth": 0,
             "ticks": ""
            },
            "type": "mesh3d"
           }
          ],
          "parcoords": [
           {
            "line": {
             "colorbar": {
              "outlinewidth": 0,
              "ticks": ""
             }
            },
            "type": "parcoords"
           }
          ],
          "pie": [
           {
            "automargin": true,
            "type": "pie"
           }
          ],
          "scatter": [
           {
            "fillpattern": {
             "fillmode": "overlay",
             "size": 10,
             "solidity": 0.2
            },
            "type": "scatter"
           }
          ],
          "scatter3d": [
           {
            "line": {
             "colorbar": {
              "outlinewidth": 0,
              "ticks": ""
             }
            },
            "marker": {
             "colorbar": {
              "outlinewidth": 0,
              "ticks": ""
             }
            },
            "type": "scatter3d"
           }
          ],
          "scattercarpet": [
           {
            "marker": {
             "colorbar": {
              "outlinewidth": 0,
              "ticks": ""
             }
            },
            "type": "scattercarpet"
           }
          ],
          "scattergeo": [
           {
            "marker": {
             "colorbar": {
              "outlinewidth": 0,
              "ticks": ""
             }
            },
            "type": "scattergeo"
           }
          ],
          "scattergl": [
           {
            "marker": {
             "colorbar": {
              "outlinewidth": 0,
              "ticks": ""
             }
            },
            "type": "scattergl"
           }
          ],
          "scattermapbox": [
           {
            "marker": {
             "colorbar": {
              "outlinewidth": 0,
              "ticks": ""
             }
            },
            "type": "scattermapbox"
           }
          ],
          "scatterpolar": [
           {
            "marker": {
             "colorbar": {
              "outlinewidth": 0,
              "ticks": ""
             }
            },
            "type": "scatterpolar"
           }
          ],
          "scatterpolargl": [
           {
            "marker": {
             "colorbar": {
              "outlinewidth": 0,
              "ticks": ""
             }
            },
            "type": "scatterpolargl"
           }
          ],
          "scatterternary": [
           {
            "marker": {
             "colorbar": {
              "outlinewidth": 0,
              "ticks": ""
             }
            },
            "type": "scatterternary"
           }
          ],
          "surface": [
           {
            "colorbar": {
             "outlinewidth": 0,
             "ticks": ""
            },
            "colorscale": [
             [
              0,
              "#0d0887"
             ],
             [
              0.1111111111111111,
              "#46039f"
             ],
             [
              0.2222222222222222,
              "#7201a8"
             ],
             [
              0.3333333333333333,
              "#9c179e"
             ],
             [
              0.4444444444444444,
              "#bd3786"
             ],
             [
              0.5555555555555556,
              "#d8576b"
             ],
             [
              0.6666666666666666,
              "#ed7953"
             ],
             [
              0.7777777777777778,
              "#fb9f3a"
             ],
             [
              0.8888888888888888,
              "#fdca26"
             ],
             [
              1,
              "#f0f921"
             ]
            ],
            "type": "surface"
           }
          ],
          "table": [
           {
            "cells": {
             "fill": {
              "color": "#EBF0F8"
             },
             "line": {
              "color": "white"
             }
            },
            "header": {
             "fill": {
              "color": "#C8D4E3"
             },
             "line": {
              "color": "white"
             }
            },
            "type": "table"
           }
          ]
         },
         "layout": {
          "annotationdefaults": {
           "arrowcolor": "#2a3f5f",
           "arrowhead": 0,
           "arrowwidth": 1
          },
          "autotypenumbers": "strict",
          "coloraxis": {
           "colorbar": {
            "outlinewidth": 0,
            "ticks": ""
           }
          },
          "colorscale": {
           "diverging": [
            [
             0,
             "#8e0152"
            ],
            [
             0.1,
             "#c51b7d"
            ],
            [
             0.2,
             "#de77ae"
            ],
            [
             0.3,
             "#f1b6da"
            ],
            [
             0.4,
             "#fde0ef"
            ],
            [
             0.5,
             "#f7f7f7"
            ],
            [
             0.6,
             "#e6f5d0"
            ],
            [
             0.7,
             "#b8e186"
            ],
            [
             0.8,
             "#7fbc41"
            ],
            [
             0.9,
             "#4d9221"
            ],
            [
             1,
             "#276419"
            ]
           ],
           "sequential": [
            [
             0,
             "#0d0887"
            ],
            [
             0.1111111111111111,
             "#46039f"
            ],
            [
             0.2222222222222222,
             "#7201a8"
            ],
            [
             0.3333333333333333,
             "#9c179e"
            ],
            [
             0.4444444444444444,
             "#bd3786"
            ],
            [
             0.5555555555555556,
             "#d8576b"
            ],
            [
             0.6666666666666666,
             "#ed7953"
            ],
            [
             0.7777777777777778,
             "#fb9f3a"
            ],
            [
             0.8888888888888888,
             "#fdca26"
            ],
            [
             1,
             "#f0f921"
            ]
           ],
           "sequentialminus": [
            [
             0,
             "#0d0887"
            ],
            [
             0.1111111111111111,
             "#46039f"
            ],
            [
             0.2222222222222222,
             "#7201a8"
            ],
            [
             0.3333333333333333,
             "#9c179e"
            ],
            [
             0.4444444444444444,
             "#bd3786"
            ],
            [
             0.5555555555555556,
             "#d8576b"
            ],
            [
             0.6666666666666666,
             "#ed7953"
            ],
            [
             0.7777777777777778,
             "#fb9f3a"
            ],
            [
             0.8888888888888888,
             "#fdca26"
            ],
            [
             1,
             "#f0f921"
            ]
           ]
          },
          "colorway": [
           "#636efa",
           "#EF553B",
           "#00cc96",
           "#ab63fa",
           "#FFA15A",
           "#19d3f3",
           "#FF6692",
           "#B6E880",
           "#FF97FF",
           "#FECB52"
          ],
          "font": {
           "color": "#2a3f5f"
          },
          "geo": {
           "bgcolor": "white",
           "lakecolor": "white",
           "landcolor": "#E5ECF6",
           "showlakes": true,
           "showland": true,
           "subunitcolor": "white"
          },
          "hoverlabel": {
           "align": "left"
          },
          "hovermode": "closest",
          "mapbox": {
           "style": "light"
          },
          "paper_bgcolor": "white",
          "plot_bgcolor": "#E5ECF6",
          "polar": {
           "angularaxis": {
            "gridcolor": "white",
            "linecolor": "white",
            "ticks": ""
           },
           "bgcolor": "#E5ECF6",
           "radialaxis": {
            "gridcolor": "white",
            "linecolor": "white",
            "ticks": ""
           }
          },
          "scene": {
           "xaxis": {
            "backgroundcolor": "#E5ECF6",
            "gridcolor": "white",
            "gridwidth": 2,
            "linecolor": "white",
            "showbackground": true,
            "ticks": "",
            "zerolinecolor": "white"
           },
           "yaxis": {
            "backgroundcolor": "#E5ECF6",
            "gridcolor": "white",
            "gridwidth": 2,
            "linecolor": "white",
            "showbackground": true,
            "ticks": "",
            "zerolinecolor": "white"
           },
           "zaxis": {
            "backgroundcolor": "#E5ECF6",
            "gridcolor": "white",
            "gridwidth": 2,
            "linecolor": "white",
            "showbackground": true,
            "ticks": "",
            "zerolinecolor": "white"
           }
          },
          "shapedefaults": {
           "line": {
            "color": "#2a3f5f"
           }
          },
          "ternary": {
           "aaxis": {
            "gridcolor": "white",
            "linecolor": "white",
            "ticks": ""
           },
           "baxis": {
            "gridcolor": "white",
            "linecolor": "white",
            "ticks": ""
           },
           "bgcolor": "#E5ECF6",
           "caxis": {
            "gridcolor": "white",
            "linecolor": "white",
            "ticks": ""
           }
          },
          "title": {
           "x": 0.05
          },
          "xaxis": {
           "automargin": true,
           "gridcolor": "white",
           "linecolor": "white",
           "ticks": "",
           "title": {
            "standoff": 15
           },
           "zerolinecolor": "white",
           "zerolinewidth": 2
          },
          "yaxis": {
           "automargin": true,
           "gridcolor": "white",
           "linecolor": "white",
           "ticks": "",
           "title": {
            "standoff": 15
           },
           "zerolinecolor": "white",
           "zerolinewidth": 2
          }
         }
        },
        "title": {
         "text": "Months which most tweets"
        },
        "xaxis": {
         "anchor": "y",
         "categoryarray": [
          "May",
          "April",
          "March",
          "February",
          "January"
         ],
         "categoryorder": "array",
         "domain": [
          0,
          1
         ],
         "title": {
          "text": "Month"
         }
        },
        "yaxis": {
         "anchor": "x",
         "domain": [
          0,
          1
         ],
         "title": {
          "text": "count"
         }
        }
       }
      }
     },
     "metadata": {},
     "output_type": "display_data"
    }
   ],
   "source": [
    "fig = px.histogram(tweets, x=\"Month\", nbins=5, color=\"Month\")\n",
    "fig.update_layout(bargap=0.2, title=\"Months which most tweets\")\n",
    "fig.show()"
   ]
  },
  {
   "cell_type": "markdown",
   "metadata": {},
   "source": [
    "We can see that in the month of April there is the highest concentration of tweets among the months studied, this may be due to the fact that the activity must be greater so that it has more reach before the summer months, which perhaps can be You must want to attract people who want to take advantage of that time that is relatively freer than other times of the year to learn something new in a quick training such as a bootcamp"
   ]
  },
  {
   "cell_type": "markdown",
   "metadata": {},
   "source": [
    "Solving point 4:"
   ]
  },
  {
   "cell_type": "code",
   "execution_count": 15,
   "metadata": {},
   "outputs": [
    {
     "data": {
      "text/html": [
       "<div>\n",
       "<style scoped>\n",
       "    .dataframe tbody tr th:only-of-type {\n",
       "        vertical-align: middle;\n",
       "    }\n",
       "\n",
       "    .dataframe tbody tr th {\n",
       "        vertical-align: top;\n",
       "    }\n",
       "\n",
       "    .dataframe thead th {\n",
       "        text-align: right;\n",
       "    }\n",
       "</style>\n",
       "<table border=\"1\" class=\"dataframe\">\n",
       "  <thead>\n",
       "    <tr style=\"text-align: right;\">\n",
       "      <th></th>\n",
       "      <th>0</th>\n",
       "      <th>1</th>\n",
       "    </tr>\n",
       "  </thead>\n",
       "  <tbody>\n",
       "    <tr>\n",
       "      <th>0</th>\n",
       "      <td>thebridge_tech</td>\n",
       "      <td>98</td>\n",
       "    </tr>\n",
       "    <tr>\n",
       "      <th>1</th>\n",
       "      <td>{link}</td>\n",
       "      <td>94</td>\n",
       "    </tr>\n",
       "    <tr>\n",
       "      <th>2</th>\n",
       "      <td>bootcamp</td>\n",
       "      <td>14</td>\n",
       "    </tr>\n",
       "    <tr>\n",
       "      <th>3</th>\n",
       "      <td>becas</td>\n",
       "      <td>11</td>\n",
       "    </tr>\n",
       "    <tr>\n",
       "      <th>4</th>\n",
       "      <td>digital</td>\n",
       "      <td>11</td>\n",
       "    </tr>\n",
       "    <tr>\n",
       "      <th>5</th>\n",
       "      <td>web</td>\n",
       "      <td>8</td>\n",
       "    </tr>\n",
       "    <tr>\n",
       "      <th>6</th>\n",
       "      <td>▪️</td>\n",
       "      <td>8</td>\n",
       "    </tr>\n",
       "    <tr>\n",
       "      <th>7</th>\n",
       "      <td>globant</td>\n",
       "      <td>8</td>\n",
       "    </tr>\n",
       "    <tr>\n",
       "      <th>8</th>\n",
       "      <td>junto</td>\n",
       "      <td>8</td>\n",
       "    </tr>\n",
       "    <tr>\n",
       "      <th>9</th>\n",
       "      <td>gracias</td>\n",
       "      <td>8</td>\n",
       "    </tr>\n",
       "  </tbody>\n",
       "</table>\n",
       "</div>"
      ],
      "text/plain": [
       "                0   1\n",
       "0  thebridge_tech  98\n",
       "1          {link}  94\n",
       "2        bootcamp  14\n",
       "3           becas  11\n",
       "4         digital  11\n",
       "5             web   8\n",
       "6              ▪️   8\n",
       "7         globant   8\n",
       "8           junto   8\n",
       "9         gracias   8"
      ]
     },
     "execution_count": 15,
     "metadata": {},
     "output_type": "execute_result"
    }
   ],
   "source": [
    "freq_dict = defaultdict(int)\n",
    "\n",
    "for message in tweets[\"Message\"]:\n",
    "    tokens = [token for token in str(message).lower().split(\" \") if token != \"\"]\n",
    "    for word in tokens:\n",
    "        freq_dict[word] += 1\n",
    "\n",
    "fd_sorted = pd.DataFrame(sorted(freq_dict.items(), key=lambda x: x[1])[::-1])\n",
    "fd_sorted.head(10)"
   ]
  },
  {
   "cell_type": "markdown",
   "metadata": {},
   "source": [
    "Solving point 5:"
   ]
  },
  {
   "cell_type": "code",
   "execution_count": 20,
   "metadata": {},
   "outputs": [
    {
     "data": {
      "application/vnd.plotly.v1+json": {
       "config": {
        "plotlyServerURL": "https://plotly.com"
       },
       "data": [
        {
         "coloraxis": "coloraxis",
         "hovertemplate": "x: %{x}<br>y: %{y}<br>color: %{z}<extra></extra>",
         "name": "0",
         "type": "heatmap",
         "x": [
          "Replys",
          "Retweets",
          "Likes",
          "Quotes"
         ],
         "xaxis": "x",
         "y": [
          "Quotes",
          "Likes",
          "Retweets",
          "Replys"
         ],
         "yaxis": "y",
         "z": [
          [
           0.18874537686642315,
           0.08234596535657623,
           0.06435778111851595,
           1
          ],
          [
           0.21688029346609047,
           0.5820258832715802,
           1,
           0.06435778111851595
          ],
          [
           0.16025426782623642,
           1,
           0.5820258832715802,
           0.08234596535657623
          ],
          [
           1,
           0.16025426782623642,
           0.21688029346609047,
           0.18874537686642315
          ]
         ]
        }
       ],
       "layout": {
        "coloraxis": {
         "colorscale": [
          [
           0,
           "#0d0887"
          ],
          [
           0.1111111111111111,
           "#46039f"
          ],
          [
           0.2222222222222222,
           "#7201a8"
          ],
          [
           0.3333333333333333,
           "#9c179e"
          ],
          [
           0.4444444444444444,
           "#bd3786"
          ],
          [
           0.5555555555555556,
           "#d8576b"
          ],
          [
           0.6666666666666666,
           "#ed7953"
          ],
          [
           0.7777777777777778,
           "#fb9f3a"
          ],
          [
           0.8888888888888888,
           "#fdca26"
          ],
          [
           1,
           "#f0f921"
          ]
         ]
        },
        "margin": {
         "t": 60
        },
        "template": {
         "data": {
          "bar": [
           {
            "error_x": {
             "color": "#2a3f5f"
            },
            "error_y": {
             "color": "#2a3f5f"
            },
            "marker": {
             "line": {
              "color": "#E5ECF6",
              "width": 0.5
             },
             "pattern": {
              "fillmode": "overlay",
              "size": 10,
              "solidity": 0.2
             }
            },
            "type": "bar"
           }
          ],
          "barpolar": [
           {
            "marker": {
             "line": {
              "color": "#E5ECF6",
              "width": 0.5
             },
             "pattern": {
              "fillmode": "overlay",
              "size": 10,
              "solidity": 0.2
             }
            },
            "type": "barpolar"
           }
          ],
          "carpet": [
           {
            "aaxis": {
             "endlinecolor": "#2a3f5f",
             "gridcolor": "white",
             "linecolor": "white",
             "minorgridcolor": "white",
             "startlinecolor": "#2a3f5f"
            },
            "baxis": {
             "endlinecolor": "#2a3f5f",
             "gridcolor": "white",
             "linecolor": "white",
             "minorgridcolor": "white",
             "startlinecolor": "#2a3f5f"
            },
            "type": "carpet"
           }
          ],
          "choropleth": [
           {
            "colorbar": {
             "outlinewidth": 0,
             "ticks": ""
            },
            "type": "choropleth"
           }
          ],
          "contour": [
           {
            "colorbar": {
             "outlinewidth": 0,
             "ticks": ""
            },
            "colorscale": [
             [
              0,
              "#0d0887"
             ],
             [
              0.1111111111111111,
              "#46039f"
             ],
             [
              0.2222222222222222,
              "#7201a8"
             ],
             [
              0.3333333333333333,
              "#9c179e"
             ],
             [
              0.4444444444444444,
              "#bd3786"
             ],
             [
              0.5555555555555556,
              "#d8576b"
             ],
             [
              0.6666666666666666,
              "#ed7953"
             ],
             [
              0.7777777777777778,
              "#fb9f3a"
             ],
             [
              0.8888888888888888,
              "#fdca26"
             ],
             [
              1,
              "#f0f921"
             ]
            ],
            "type": "contour"
           }
          ],
          "contourcarpet": [
           {
            "colorbar": {
             "outlinewidth": 0,
             "ticks": ""
            },
            "type": "contourcarpet"
           }
          ],
          "heatmap": [
           {
            "colorbar": {
             "outlinewidth": 0,
             "ticks": ""
            },
            "colorscale": [
             [
              0,
              "#0d0887"
             ],
             [
              0.1111111111111111,
              "#46039f"
             ],
             [
              0.2222222222222222,
              "#7201a8"
             ],
             [
              0.3333333333333333,
              "#9c179e"
             ],
             [
              0.4444444444444444,
              "#bd3786"
             ],
             [
              0.5555555555555556,
              "#d8576b"
             ],
             [
              0.6666666666666666,
              "#ed7953"
             ],
             [
              0.7777777777777778,
              "#fb9f3a"
             ],
             [
              0.8888888888888888,
              "#fdca26"
             ],
             [
              1,
              "#f0f921"
             ]
            ],
            "type": "heatmap"
           }
          ],
          "heatmapgl": [
           {
            "colorbar": {
             "outlinewidth": 0,
             "ticks": ""
            },
            "colorscale": [
             [
              0,
              "#0d0887"
             ],
             [
              0.1111111111111111,
              "#46039f"
             ],
             [
              0.2222222222222222,
              "#7201a8"
             ],
             [
              0.3333333333333333,
              "#9c179e"
             ],
             [
              0.4444444444444444,
              "#bd3786"
             ],
             [
              0.5555555555555556,
              "#d8576b"
             ],
             [
              0.6666666666666666,
              "#ed7953"
             ],
             [
              0.7777777777777778,
              "#fb9f3a"
             ],
             [
              0.8888888888888888,
              "#fdca26"
             ],
             [
              1,
              "#f0f921"
             ]
            ],
            "type": "heatmapgl"
           }
          ],
          "histogram": [
           {
            "marker": {
             "pattern": {
              "fillmode": "overlay",
              "size": 10,
              "solidity": 0.2
             }
            },
            "type": "histogram"
           }
          ],
          "histogram2d": [
           {
            "colorbar": {
             "outlinewidth": 0,
             "ticks": ""
            },
            "colorscale": [
             [
              0,
              "#0d0887"
             ],
             [
              0.1111111111111111,
              "#46039f"
             ],
             [
              0.2222222222222222,
              "#7201a8"
             ],
             [
              0.3333333333333333,
              "#9c179e"
             ],
             [
              0.4444444444444444,
              "#bd3786"
             ],
             [
              0.5555555555555556,
              "#d8576b"
             ],
             [
              0.6666666666666666,
              "#ed7953"
             ],
             [
              0.7777777777777778,
              "#fb9f3a"
             ],
             [
              0.8888888888888888,
              "#fdca26"
             ],
             [
              1,
              "#f0f921"
             ]
            ],
            "type": "histogram2d"
           }
          ],
          "histogram2dcontour": [
           {
            "colorbar": {
             "outlinewidth": 0,
             "ticks": ""
            },
            "colorscale": [
             [
              0,
              "#0d0887"
             ],
             [
              0.1111111111111111,
              "#46039f"
             ],
             [
              0.2222222222222222,
              "#7201a8"
             ],
             [
              0.3333333333333333,
              "#9c179e"
             ],
             [
              0.4444444444444444,
              "#bd3786"
             ],
             [
              0.5555555555555556,
              "#d8576b"
             ],
             [
              0.6666666666666666,
              "#ed7953"
             ],
             [
              0.7777777777777778,
              "#fb9f3a"
             ],
             [
              0.8888888888888888,
              "#fdca26"
             ],
             [
              1,
              "#f0f921"
             ]
            ],
            "type": "histogram2dcontour"
           }
          ],
          "mesh3d": [
           {
            "colorbar": {
             "outlinewidth": 0,
             "ticks": ""
            },
            "type": "mesh3d"
           }
          ],
          "parcoords": [
           {
            "line": {
             "colorbar": {
              "outlinewidth": 0,
              "ticks": ""
             }
            },
            "type": "parcoords"
           }
          ],
          "pie": [
           {
            "automargin": true,
            "type": "pie"
           }
          ],
          "scatter": [
           {
            "fillpattern": {
             "fillmode": "overlay",
             "size": 10,
             "solidity": 0.2
            },
            "type": "scatter"
           }
          ],
          "scatter3d": [
           {
            "line": {
             "colorbar": {
              "outlinewidth": 0,
              "ticks": ""
             }
            },
            "marker": {
             "colorbar": {
              "outlinewidth": 0,
              "ticks": ""
             }
            },
            "type": "scatter3d"
           }
          ],
          "scattercarpet": [
           {
            "marker": {
             "colorbar": {
              "outlinewidth": 0,
              "ticks": ""
             }
            },
            "type": "scattercarpet"
           }
          ],
          "scattergeo": [
           {
            "marker": {
             "colorbar": {
              "outlinewidth": 0,
              "ticks": ""
             }
            },
            "type": "scattergeo"
           }
          ],
          "scattergl": [
           {
            "marker": {
             "colorbar": {
              "outlinewidth": 0,
              "ticks": ""
             }
            },
            "type": "scattergl"
           }
          ],
          "scattermapbox": [
           {
            "marker": {
             "colorbar": {
              "outlinewidth": 0,
              "ticks": ""
             }
            },
            "type": "scattermapbox"
           }
          ],
          "scatterpolar": [
           {
            "marker": {
             "colorbar": {
              "outlinewidth": 0,
              "ticks": ""
             }
            },
            "type": "scatterpolar"
           }
          ],
          "scatterpolargl": [
           {
            "marker": {
             "colorbar": {
              "outlinewidth": 0,
              "ticks": ""
             }
            },
            "type": "scatterpolargl"
           }
          ],
          "scatterternary": [
           {
            "marker": {
             "colorbar": {
              "outlinewidth": 0,
              "ticks": ""
             }
            },
            "type": "scatterternary"
           }
          ],
          "surface": [
           {
            "colorbar": {
             "outlinewidth": 0,
             "ticks": ""
            },
            "colorscale": [
             [
              0,
              "#0d0887"
             ],
             [
              0.1111111111111111,
              "#46039f"
             ],
             [
              0.2222222222222222,
              "#7201a8"
             ],
             [
              0.3333333333333333,
              "#9c179e"
             ],
             [
              0.4444444444444444,
              "#bd3786"
             ],
             [
              0.5555555555555556,
              "#d8576b"
             ],
             [
              0.6666666666666666,
              "#ed7953"
             ],
             [
              0.7777777777777778,
              "#fb9f3a"
             ],
             [
              0.8888888888888888,
              "#fdca26"
             ],
             [
              1,
              "#f0f921"
             ]
            ],
            "type": "surface"
           }
          ],
          "table": [
           {
            "cells": {
             "fill": {
              "color": "#EBF0F8"
             },
             "line": {
              "color": "white"
             }
            },
            "header": {
             "fill": {
              "color": "#C8D4E3"
             },
             "line": {
              "color": "white"
             }
            },
            "type": "table"
           }
          ]
         },
         "layout": {
          "annotationdefaults": {
           "arrowcolor": "#2a3f5f",
           "arrowhead": 0,
           "arrowwidth": 1
          },
          "autotypenumbers": "strict",
          "coloraxis": {
           "colorbar": {
            "outlinewidth": 0,
            "ticks": ""
           }
          },
          "colorscale": {
           "diverging": [
            [
             0,
             "#8e0152"
            ],
            [
             0.1,
             "#c51b7d"
            ],
            [
             0.2,
             "#de77ae"
            ],
            [
             0.3,
             "#f1b6da"
            ],
            [
             0.4,
             "#fde0ef"
            ],
            [
             0.5,
             "#f7f7f7"
            ],
            [
             0.6,
             "#e6f5d0"
            ],
            [
             0.7,
             "#b8e186"
            ],
            [
             0.8,
             "#7fbc41"
            ],
            [
             0.9,
             "#4d9221"
            ],
            [
             1,
             "#276419"
            ]
           ],
           "sequential": [
            [
             0,
             "#0d0887"
            ],
            [
             0.1111111111111111,
             "#46039f"
            ],
            [
             0.2222222222222222,
             "#7201a8"
            ],
            [
             0.3333333333333333,
             "#9c179e"
            ],
            [
             0.4444444444444444,
             "#bd3786"
            ],
            [
             0.5555555555555556,
             "#d8576b"
            ],
            [
             0.6666666666666666,
             "#ed7953"
            ],
            [
             0.7777777777777778,
             "#fb9f3a"
            ],
            [
             0.8888888888888888,
             "#fdca26"
            ],
            [
             1,
             "#f0f921"
            ]
           ],
           "sequentialminus": [
            [
             0,
             "#0d0887"
            ],
            [
             0.1111111111111111,
             "#46039f"
            ],
            [
             0.2222222222222222,
             "#7201a8"
            ],
            [
             0.3333333333333333,
             "#9c179e"
            ],
            [
             0.4444444444444444,
             "#bd3786"
            ],
            [
             0.5555555555555556,
             "#d8576b"
            ],
            [
             0.6666666666666666,
             "#ed7953"
            ],
            [
             0.7777777777777778,
             "#fb9f3a"
            ],
            [
             0.8888888888888888,
             "#fdca26"
            ],
            [
             1,
             "#f0f921"
            ]
           ]
          },
          "colorway": [
           "#636efa",
           "#EF553B",
           "#00cc96",
           "#ab63fa",
           "#FFA15A",
           "#19d3f3",
           "#FF6692",
           "#B6E880",
           "#FF97FF",
           "#FECB52"
          ],
          "font": {
           "color": "#2a3f5f"
          },
          "geo": {
           "bgcolor": "white",
           "lakecolor": "white",
           "landcolor": "#E5ECF6",
           "showlakes": true,
           "showland": true,
           "subunitcolor": "white"
          },
          "hoverlabel": {
           "align": "left"
          },
          "hovermode": "closest",
          "mapbox": {
           "style": "light"
          },
          "paper_bgcolor": "white",
          "plot_bgcolor": "#E5ECF6",
          "polar": {
           "angularaxis": {
            "gridcolor": "white",
            "linecolor": "white",
            "ticks": ""
           },
           "bgcolor": "#E5ECF6",
           "radialaxis": {
            "gridcolor": "white",
            "linecolor": "white",
            "ticks": ""
           }
          },
          "scene": {
           "xaxis": {
            "backgroundcolor": "#E5ECF6",
            "gridcolor": "white",
            "gridwidth": 2,
            "linecolor": "white",
            "showbackground": true,
            "ticks": "",
            "zerolinecolor": "white"
           },
           "yaxis": {
            "backgroundcolor": "#E5ECF6",
            "gridcolor": "white",
            "gridwidth": 2,
            "linecolor": "white",
            "showbackground": true,
            "ticks": "",
            "zerolinecolor": "white"
           },
           "zaxis": {
            "backgroundcolor": "#E5ECF6",
            "gridcolor": "white",
            "gridwidth": 2,
            "linecolor": "white",
            "showbackground": true,
            "ticks": "",
            "zerolinecolor": "white"
           }
          },
          "shapedefaults": {
           "line": {
            "color": "#2a3f5f"
           }
          },
          "ternary": {
           "aaxis": {
            "gridcolor": "white",
            "linecolor": "white",
            "ticks": ""
           },
           "baxis": {
            "gridcolor": "white",
            "linecolor": "white",
            "ticks": ""
           },
           "bgcolor": "#E5ECF6",
           "caxis": {
            "gridcolor": "white",
            "linecolor": "white",
            "ticks": ""
           }
          },
          "title": {
           "x": 0.05
          },
          "xaxis": {
           "automargin": true,
           "gridcolor": "white",
           "linecolor": "white",
           "ticks": "",
           "title": {
            "standoff": 15
           },
           "zerolinecolor": "white",
           "zerolinewidth": 2
          },
          "yaxis": {
           "automargin": true,
           "gridcolor": "white",
           "linecolor": "white",
           "ticks": "",
           "title": {
            "standoff": 15
           },
           "zerolinecolor": "white",
           "zerolinewidth": 2
          }
         }
        },
        "title": {
         "text": "Math correlation between the public metrics"
        },
        "xaxis": {
         "anchor": "y",
         "constrain": "domain",
         "domain": [
          0,
          1
         ],
         "scaleanchor": "y"
        },
        "yaxis": {
         "anchor": "x",
         "autorange": "reversed",
         "constrain": "domain",
         "domain": [
          0,
          1
         ]
        }
       }
      }
     },
     "metadata": {},
     "output_type": "display_data"
    }
   ],
   "source": [
    "correlation = tweets[[\"Replys\", \"Retweets\", \"Likes\", \"Quotes\"]].corr()\n",
    "transposed_corr = correlation[::-1]\n",
    "fig = px.imshow(transposed_corr)\n",
    "fig.update_layout(title=\"Math correlation between the public metrics\")\n",
    "fig.show()"
   ]
  },
  {
   "cell_type": "markdown",
   "metadata": {},
   "source": [
    "We can observe that there is a relatively high correlation between likes and retweets, this may be due to the fact that since they are the most common interaction metrics they go hand in hand in user interaction, that is, if a user likes a content and gives a like, he regularly shares it with a retweet so that it is more easily seen on his timeline for his followers"
   ]
  },
  {
   "cell_type": "markdown",
   "metadata": {},
   "source": [
    "## Predictions"
   ]
  },
  {
   "cell_type": "markdown",
   "metadata": {},
   "source": [
    "For the predictions we wil use a pretrained model"
   ]
  },
  {
   "cell_type": "code",
   "execution_count": 21,
   "metadata": {},
   "outputs": [],
   "source": [
    "with open(\"data/finished_model.model\", \"rb\") as file:\n",
    "    model = pickle.load(file)"
   ]
  },
  {
   "cell_type": "code",
   "execution_count": 34,
   "metadata": {},
   "outputs": [
    {
     "name": "stdout",
     "output_type": "stream",
     "text": [
      "Predictions count\n",
      " 0    64\n",
      "1    34\n",
      "dtype: int64 \n",
      "\n",
      "Predictions count average\n",
      " 0    0.653061\n",
      "1    0.346939\n",
      "dtype: float64\n"
     ]
    }
   ],
   "source": [
    "predictions = model.predict(tweets[\"Message\"])\n",
    "predictions = pd.Series(predictions, index=[i for i in range(0, 98)])\n",
    "print(\"Predictions count\\n\", predictions.value_counts(), \"\\n\")\n",
    "print(\"Predictions count average\\n\", predictions.value_counts()/98)"
   ]
  },
  {
   "cell_type": "markdown",
   "metadata": {},
   "source": [
    "1. We can see that most of the predictions are positive, detailing that 0 is for a text with a positive sentiment and 1 for a negative one.\n",
    "\n",
    "2. The variables that can be more representative for the prediction can be the positive words such as excellent or funny, as well as the negative ones such as bad or offensive.\n",
    "\n",
    "3. The model can be improved by removing things like:\n",
    "    - Hashtags\n",
    "    - Mentions\n",
    "    - Abbreviations\n",
    "    - Misspellings\n",
    "    - Laughs\n",
    "\n",
    "4. Another facet where machine learning models can be applied is, for example, the virality of a tweet, that is, based on the text, it is possible to calculate the public metrics or the total sum of interactions."
   ]
  }
 ],
 "metadata": {
  "interpreter": {
   "hash": "0bdc6e612fb2213545a98f8a0a443d810ee75e809c56c9dac704b481d62b9359"
  },
  "kernelspec": {
   "display_name": "Python 3.7.0 64-bit",
   "language": "python",
   "name": "python3"
  },
  "language_info": {
   "codemirror_mode": {
    "name": "ipython",
    "version": 3
   },
   "file_extension": ".py",
   "mimetype": "text/x-python",
   "name": "python",
   "nbconvert_exporter": "python",
   "pygments_lexer": "ipython3",
   "version": "3.7.0"
  },
  "orig_nbformat": 4
 },
 "nbformat": 4,
 "nbformat_minor": 2
}
